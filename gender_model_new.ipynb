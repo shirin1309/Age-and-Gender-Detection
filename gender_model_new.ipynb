{
  "nbformat": 4,
  "nbformat_minor": 0,
  "metadata": {
    "colab": {
      "name": "gender_model_new.ipynb",
      "provenance": [],
      "collapsed_sections": [],
      "mount_file_id": "1rGENVpwDaJr62Rd2JCH0cTpHO-8SkgEh",
      "authorship_tag": "ABX9TyM4LT1Pm6CWdO6w5KYcgfAe",
      "include_colab_link": true
    },
    "kernelspec": {
      "name": "python3",
      "display_name": "Python 3"
    },
    "language_info": {
      "name": "python"
    },
    "accelerator": "GPU",
    "gpuClass": "standard"
  },
  "cells": [
    {
      "cell_type": "markdown",
      "metadata": {
        "id": "view-in-github",
        "colab_type": "text"
      },
      "source": [
        "<a href=\"https://colab.research.google.com/github/shirin1309/Age-and-Gender-Detection/blob/main/gender_model_new.ipynb\" target=\"_parent\"><img src=\"https://colab.research.google.com/assets/colab-badge.svg\" alt=\"Open In Colab\"/></a>"
      ]
    },
    {
      "cell_type": "code",
      "execution_count": null,
      "metadata": {
        "colab": {
          "resources": {
            "http://localhost:8080/nbextensions/google.colab/files.js": {
              "data": "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",
              "ok": true,
              "headers": [
                [
                  "content-type",
                  "application/javascript"
                ]
              ],
              "status": 200,
              "status_text": ""
            }
          },
          "base_uri": "https://localhost:8080/",
          "height": 90
        },
        "id": "Q5Gb_18kmiAz",
        "outputId": "42c7cf60-0814-4f9a-fa7a-2708851cb1b3"
      },
      "outputs": [
        {
          "output_type": "display_data",
          "data": {
            "text/plain": [
              "<IPython.core.display.HTML object>"
            ],
            "text/html": [
              "\n",
              "     <input type=\"file\" id=\"files-dc147fbe-8b8e-419b-a5fe-09f21ca4d7ee\" name=\"files[]\" multiple disabled\n",
              "        style=\"border:none\" />\n",
              "     <output id=\"result-dc147fbe-8b8e-419b-a5fe-09f21ca4d7ee\">\n",
              "      Upload widget is only available when the cell has been executed in the\n",
              "      current browser session. Please rerun this cell to enable.\n",
              "      </output>\n",
              "      <script src=\"/nbextensions/google.colab/files.js\"></script> "
            ]
          },
          "metadata": {}
        },
        {
          "output_type": "stream",
          "name": "stdout",
          "text": [
            "Saving kaggle.json to kaggle.json\n"
          ]
        },
        {
          "output_type": "execute_result",
          "data": {
            "text/plain": [
              "{'kaggle.json': b'{\"username\":\"shirinsaf\",\"key\":\"0a00dba283f8735c852f06946a37faa1\"}'}"
            ]
          },
          "metadata": {},
          "execution_count": 1
        }
      ],
      "source": [
        "from google.colab import files\n",
        "files.upload()"
      ]
    },
    {
      "cell_type": "code",
      "source": [
        "!pip install -q kaggle"
      ],
      "metadata": {
        "id": "qCUbVnd5ne_O"
      },
      "execution_count": null,
      "outputs": []
    },
    {
      "cell_type": "code",
      "source": [
        "!mkdir -p ~/.kaggle\n",
        "!cp kaggle.json ~/.kaggle/"
      ],
      "metadata": {
        "id": "v6nwphhXnhmi"
      },
      "execution_count": null,
      "outputs": []
    },
    {
      "cell_type": "code",
      "source": [
        "!chmod 600 ~/.kaggle/kaggle.json"
      ],
      "metadata": {
        "id": "q3hp2UiMnqVB"
      },
      "execution_count": null,
      "outputs": []
    },
    {
      "cell_type": "code",
      "source": [
        "!kaggle datasets list"
      ],
      "metadata": {
        "colab": {
          "base_uri": "https://localhost:8080/"
        },
        "id": "Ri6cV8kFoKPz",
        "outputId": "7ce24c65-e568-4b88-b3be-dfad498ef159"
      },
      "execution_count": null,
      "outputs": [
        {
          "output_type": "stream",
          "name": "stdout",
          "text": [
            "ref                                                                title                                                size  lastUpdated          downloadCount  voteCount  usabilityRating  \n",
            "-----------------------------------------------------------------  --------------------------------------------------  -----  -------------------  -------------  ---------  ---------------  \n",
            "victorsoeiro/netflix-tv-shows-and-movies                           Netflix TV Shows and Movies                           2MB  2022-05-15 00:01:23          12856        380  1.0              \n",
            "zusmani/petrolgas-prices-worldwide                                 Petrol/Gas Prices Worldwide                          10KB  2022-06-24 01:25:33           1225         74  1.0              \n",
            "ruchi798/data-science-job-salaries                                 Data Science Job Salaries                             7KB  2022-06-15 08:59:12           2102         74  1.0              \n",
            "devansodariya/student-performance-data                             Student Performance Dataset                           7KB  2022-05-26 13:55:09           7453        212  0.9705882        \n",
            "sameepvani/nasa-nearest-earth-objects                              NASA - Nearest Earth Objects                          7MB  2022-06-17 02:32:18           1249         67  1.0              \n",
            "jimschacko/airlines-dataset-to-predict-a-delay                     Airlines Dataset to predict a delay                   6MB  2022-06-21 05:45:44            911         33  1.0              \n",
            "azminetoushikwasi/ott-video-streaming-platforms-revenue-and-users  OTT, Video Streaming Platforms - Revenue and Users   11KB  2022-07-01 08:30:57            160         13  1.0              \n",
            "iamsouravbanerjee/software-professional-salaries-2022              Salary Dataset - 2022                               526KB  2022-07-03 08:52:41           2687         77  1.0              \n",
            "dansbecker/melbourne-housing-snapshot                              Melbourne Housing Snapshot                          451KB  2018-06-05 12:52:24          90074       1101  0.7058824        \n",
            "nabilajahan/student-study-performance                              Student Study performance                            743B  2022-06-28 07:42:27            368         25  0.8235294        \n",
            "sansuthi/gapminder-internet                                        Global Internet Usage                                 5KB  2022-06-01 03:28:46            671         21  1.0              \n",
            "imoore/age-dataset                                                 Age dataset: life, work, and death of 1.22M people   34MB  2022-06-07 08:56:52           1645         77  1.0              \n",
            "datasnaek/youtube-new                                              Trending YouTube Video Statistics                   201MB  2019-06-03 00:56:47         178204       4581  0.7941176        \n",
            "zynicide/wine-reviews                                              Wine Reviews                                         51MB  2017-11-27 17:08:04         162402       3331  0.7941176        \n",
            "iabhishekofficial/mobile-price-classification                      Mobile Price Classification                          71KB  2018-01-28 08:44:24          91254       1239  0.7058824        \n",
            "rtatman/188-million-us-wildfires                                   1.88 Million US Wildfires                           168MB  2020-05-12 21:03:49          20566       1015  0.8235294        \n",
            "residentmario/ramen-ratings                                        Ramen Ratings                                        40KB  2018-01-11 16:04:39          34632        793  0.7058824        \n",
            "datasnaek/chess                                                    Chess Game Dataset (Lichess)                          3MB  2017-09-04 03:09:09          30302       1015  0.8235294        \n",
            "dansbecker/powerlifting-database                                   powerlifting-database                                 9MB  2019-04-30 21:07:41           4831         56  0.5882353        \n",
            "jpmiller/publicassistance                                          US Public Food Assistance                           703KB  2020-08-21 16:51:18          16549        391  0.9117647        \n"
          ]
        }
      ]
    },
    {
      "cell_type": "code",
      "source": [
        "! kaggle datasets download cashutosh/gender-classification-dataset"
      ],
      "metadata": {
        "colab": {
          "base_uri": "https://localhost:8080/"
        },
        "id": "cw3vG-0Boog-",
        "outputId": "74fcdb34-a3c1-40bf-ccc6-6c1433760e60"
      },
      "execution_count": null,
      "outputs": [
        {
          "output_type": "stream",
          "name": "stdout",
          "text": [
            "gender-classification-dataset.zip: Skipping, found more recently modified local copy (use --force to force download)\n"
          ]
        }
      ]
    },
    {
      "cell_type": "code",
      "source": [
        "! unzip gender-classification-dataset.zip"
      ],
      "metadata": {
        "colab": {
          "base_uri": "https://localhost:8080/"
        },
        "id": "su5OHwVLrufE",
        "outputId": "b33c91a7-2073-4225-9f58-131755e38528"
      },
      "execution_count": null,
      "outputs": [
        {
          "output_type": "stream",
          "name": "stdout",
          "text": [
            "Archive:  gender-classification-dataset.zip\n",
            "replace Training/female/131422.jpg.jpg? [y]es, [n]o, [A]ll, [N]one, [r]ename: "
          ]
        }
      ]
    },
    {
      "cell_type": "code",
      "source": [
        "#import shutil\n",
        "#shutil.copy(\"\",\"/content/drive/MyDrive/folder_name\")"
      ],
      "metadata": {
        "id": "8HJXXZ_tsuYV"
      },
      "execution_count": null,
      "outputs": []
    },
    {
      "cell_type": "code",
      "source": [
        "import numpy as np\n",
        "import pandas as pd\n",
        "import matplotlib.pyplot as plt\n",
        "import cv2\n",
        "import os\n",
        "from keras.models import load_model\n",
        "\n",
        "NUM_CLASSES = 2\n",
        "\n",
        "CHANNELS = 3\n",
        "\n",
        "IMAGE_RESIZE = 96\n",
        "\n",
        "NUM_EPOCHS = 100\n",
        "\n",
        "STEPS_PER_EPOCH_TRAINING = 132\n",
        "STEPS_PER_EPOCH_VALIDATION = 10\n",
        "\n",
        "BATCH_SIZE_TRAINING = 356\n",
        "BATCH_SIZE_VALIDATION = 132\n",
        "\n",
        "BATCH_SIZE_TESTING = 1\n",
        "\n",
        "from tensorflow.keras.applications import ResNet50\n",
        "from tensorflow.keras.models import Sequential\n",
        "from tensorflow.keras.layers import Dense\n",
        "from tensorflow.keras.applications.resnet50 import ResNet50\n",
        "from keras.models import Model\n",
        "import keras\n",
        "from keras.layers import Conv2D, MaxPooling2D, Flatten, Dense, Dropout, InputLayer, GlobalAveragePooling2D, LeakyReLU\n",
        "from keras.models import Sequential\n",
        "from keras import optimizers"
      ],
      "metadata": {
        "id": "gAvp8b8Nv8Dh"
      },
      "execution_count": null,
      "outputs": []
    },
    {
      "cell_type": "code",
      "source": [
        "from tensorflow.keras.applications.resnet50 import preprocess_input\n",
        "from keras.preprocessing.image import ImageDataGenerator\n",
        "\n",
        "image_size = IMAGE_RESIZE\n",
        "\n",
        "data_generator = ImageDataGenerator(preprocessing_function=preprocess_input)\n",
        "\n",
        "train_generator = data_generator.flow_from_directory(\n",
        "        '/content/Training',\n",
        "        target_size=(image_size, image_size),\n",
        "        batch_size=BATCH_SIZE_TRAINING,\n",
        "        class_mode='categorical')\n",
        "\n",
        "validation_generator = data_generator.flow_from_directory(\n",
        "        '/content/Validation',\n",
        "        target_size=(image_size, image_size),\n",
        "        batch_size=BATCH_SIZE_VALIDATION,\n",
        "        class_mode='categorical') "
      ],
      "metadata": {
        "colab": {
          "base_uri": "https://localhost:8080/"
        },
        "id": "KgKe1ZPgdSlS",
        "outputId": "aaae3d38-bf16-4127-ed9e-39ca67f678ea"
      },
      "execution_count": null,
      "outputs": [
        {
          "output_type": "stream",
          "name": "stdout",
          "text": [
            "Found 47009 images belonging to 2 classes.\n",
            "Found 11649 images belonging to 2 classes.\n"
          ]
        }
      ]
    },
    {
      "cell_type": "code",
      "source": [
        "train_generator.class_indices"
      ],
      "metadata": {
        "colab": {
          "base_uri": "https://localhost:8080/"
        },
        "id": "gSfJY5Jaoad_",
        "outputId": "ef90759c-f498-4753-c312-0d271c3a2fcf"
      },
      "execution_count": null,
      "outputs": [
        {
          "output_type": "execute_result",
          "data": {
            "text/plain": [
              "{'female': 0, 'male': 1}"
            ]
          },
          "metadata": {},
          "execution_count": 12
        }
      ]
    },
    {
      "cell_type": "code",
      "source": [
        "def conv_pool_cnn(dim=224,freeze_layers=10,full_freeze='N'):\n",
        "\n",
        "  model = ResNet50(include_top=False)\n",
        "  x = model.output\n",
        "  x = GlobalAveragePooling2D()(x)\n",
        "  \n",
        "  model = Model(inputs = model.input,outputs=x)\n",
        "  \n",
        "  model_final = Sequential()\n",
        "  model_final.add(model)\n",
        "  \n",
        "  model_final.add(Dense(2048))\n",
        "  model_final.add(LeakyReLU(alpha=0.2))\n",
        "  model_final.add(Dropout(0.25))\n",
        "  \n",
        "  model_final.add(Dense(1024))\n",
        "  model_final.add(LeakyReLU(alpha=0.2))\n",
        "  model_final.add(Dropout(0.5))\n",
        "  \n",
        "  model_final.add(Dense(512))\n",
        "  model_final.add(LeakyReLU(alpha=0.2))\n",
        "  model_final.add(Dropout(0.5))\n",
        "  \n",
        "  model_final.add(Dense(256))\n",
        "  model_final.add(LeakyReLU(alpha=0.2))\n",
        "  model_final.add(Dropout(0.5))\n",
        "  model_final.add(Dense(2,activation='softmax'))\n",
        "  \n",
        "  model_final.compile(loss = 'categorical_crossentropy', optimizer = 'adam', metrics = ['accuracy'])\n",
        "  \n",
        "  \n",
        "  if full_freeze != 'N':\n",
        "    for layer in model.layers[0:freeze_layers]:\n",
        "      layer.trainable = False\n",
        "  model_final.summary()\n",
        "  return model_final\n",
        "\n"
      ],
      "metadata": {
        "id": "ud9YeCyVd6FO"
      },
      "execution_count": null,
      "outputs": []
    },
    {
      "cell_type": "code",
      "source": [
        "model =conv_pool_cnn()\n",
        "\n",
        "\n",
        "\n",
        "#(BATCH_SIZE_TRAINING, len(train_generator), BATCH_SIZE_VALIDATION, len(validation_generator))\n",
        "\n",
        "\n",
        "\n"
      ],
      "metadata": {
        "colab": {
          "base_uri": "https://localhost:8080/"
        },
        "id": "GDrNG0kieNJf",
        "outputId": "868f08ea-bb9d-443e-f298-26238457a605"
      },
      "execution_count": null,
      "outputs": [
        {
          "output_type": "stream",
          "name": "stdout",
          "text": [
            "Model: \"sequential\"\n",
            "_________________________________________________________________\n",
            " Layer (type)                Output Shape              Param #   \n",
            "=================================================================\n",
            " model (Functional)          (None, 2048)              23587712  \n",
            "                                                                 \n",
            " dense (Dense)               (None, 2048)              4196352   \n",
            "                                                                 \n",
            " leaky_re_lu (LeakyReLU)     (None, 2048)              0         \n",
            "                                                                 \n",
            " dropout (Dropout)           (None, 2048)              0         \n",
            "                                                                 \n",
            " dense_1 (Dense)             (None, 1024)              2098176   \n",
            "                                                                 \n",
            " leaky_re_lu_1 (LeakyReLU)   (None, 1024)              0         \n",
            "                                                                 \n",
            " dropout_1 (Dropout)         (None, 1024)              0         \n",
            "                                                                 \n",
            " dense_2 (Dense)             (None, 512)               524800    \n",
            "                                                                 \n",
            " leaky_re_lu_2 (LeakyReLU)   (None, 512)               0         \n",
            "                                                                 \n",
            " dropout_2 (Dropout)         (None, 512)               0         \n",
            "                                                                 \n",
            " dense_3 (Dense)             (None, 256)               131328    \n",
            "                                                                 \n",
            " leaky_re_lu_3 (LeakyReLU)   (None, 256)               0         \n",
            "                                                                 \n",
            " dropout_3 (Dropout)         (None, 256)               0         \n",
            "                                                                 \n",
            " dense_4 (Dense)             (None, 2)                 514       \n",
            "                                                                 \n",
            "=================================================================\n",
            "Total params: 30,538,882\n",
            "Trainable params: 30,485,762\n",
            "Non-trainable params: 53,120\n",
            "_________________________________________________________________\n"
          ]
        }
      ]
    },
    {
      "cell_type": "code",
      "source": [
        ""
      ],
      "metadata": {
        "id": "PkQtMKejeonD"
      },
      "execution_count": null,
      "outputs": []
    },
    {
      "cell_type": "code",
      "source": [
        "fit_history = model.fit_generator(\n",
        "        train_generator,\n",
        "        steps_per_epoch=STEPS_PER_EPOCH_TRAINING,\n",
        "        epochs = NUM_EPOCHS,\n",
        "        validation_data=validation_generator,\n",
        "        validation_steps=STEPS_PER_EPOCH_VALIDATION\n",
        ")\n",
        "\n",
        "model.save('new_age_model.hdf5')"
      ],
      "metadata": {
        "colab": {
          "base_uri": "https://localhost:8080/"
        },
        "id": "IMoIjrcmebjp",
        "outputId": "59b16ac5-a50c-447d-c1fa-7c50d07d450c"
      },
      "execution_count": null,
      "outputs": [
        {
          "output_type": "stream",
          "name": "stderr",
          "text": [
            "/usr/local/lib/python3.7/dist-packages/ipykernel_launcher.py:6: UserWarning: `Model.fit_generator` is deprecated and will be removed in a future version. Please use `Model.fit`, which supports generators.\n",
            "  \n"
          ]
        },
        {
          "output_type": "stream",
          "name": "stdout",
          "text": [
            "Epoch 1/100\n",
            "132/132 [==============================] - 126s 777ms/step - loss: 0.1776 - accuracy: 0.9407 - val_loss: 0.2240 - val_accuracy: 0.9492\n",
            "Epoch 2/100\n",
            "132/132 [==============================] - 102s 769ms/step - loss: 0.0878 - accuracy: 0.9698 - val_loss: 0.1898 - val_accuracy: 0.9477\n",
            "Epoch 3/100\n",
            "132/132 [==============================] - 101s 768ms/step - loss: 0.0889 - accuracy: 0.9693 - val_loss: 0.2229 - val_accuracy: 0.9402\n",
            "Epoch 4/100\n",
            "132/132 [==============================] - 101s 767ms/step - loss: 0.0648 - accuracy: 0.9764 - val_loss: 0.2159 - val_accuracy: 0.9341\n",
            "Epoch 5/100\n",
            "132/132 [==============================] - 102s 770ms/step - loss: 0.0447 - accuracy: 0.9838 - val_loss: 0.1648 - val_accuracy: 0.9500\n",
            "Epoch 6/100\n",
            "132/132 [==============================] - 102s 770ms/step - loss: 0.0474 - accuracy: 0.9829 - val_loss: 0.5809 - val_accuracy: 0.8917\n",
            "Epoch 7/100\n",
            "132/132 [==============================] - 102s 770ms/step - loss: 0.0577 - accuracy: 0.9798 - val_loss: 0.1163 - val_accuracy: 0.9477\n",
            "Epoch 8/100\n",
            "132/132 [==============================] - 101s 766ms/step - loss: 0.0426 - accuracy: 0.9848 - val_loss: 4.7693 - val_accuracy: 0.6621\n",
            "Epoch 9/100\n",
            "132/132 [==============================] - 101s 763ms/step - loss: 0.0716 - accuracy: 0.9743 - val_loss: 0.1084 - val_accuracy: 0.9667\n",
            "Epoch 10/100\n",
            "132/132 [==============================] - 102s 769ms/step - loss: 0.0290 - accuracy: 0.9893 - val_loss: 0.1065 - val_accuracy: 0.9697\n",
            "Epoch 11/100\n",
            "126/132 [===========================>..] - ETA: 4s - loss: 0.0241 - accuracy: 0.9917Epoch 12/100\n",
            "132/132 [==============================] - 102s 768ms/step - loss: 0.0190 - accuracy: 0.9932 - val_loss: 0.1008 - val_accuracy: 0.9735\n",
            "Epoch 13/100\n",
            "132/132 [==============================] - 102s 769ms/step - loss: 0.0267 - accuracy: 0.9906 - val_loss: 2.1482 - val_accuracy: 0.6924\n",
            "Epoch 14/100\n",
            "132/132 [==============================] - 101s 766ms/step - loss: 0.0482 - accuracy: 0.9834 - val_loss: 18.1456 - val_accuracy: 0.8538\n",
            "Epoch 15/100\n",
            "132/132 [==============================] - 101s 764ms/step - loss: 0.0348 - accuracy: 0.9876 - val_loss: 0.0984 - val_accuracy: 0.9659\n",
            "Epoch 16/100\n",
            "132/132 [==============================] - 101s 767ms/step - loss: 0.0164 - accuracy: 0.9939 - val_loss: 0.1987 - val_accuracy: 0.9629\n",
            "Epoch 17/100\n",
            "132/132 [==============================] - 102s 769ms/step - loss: 0.0137 - accuracy: 0.9958 - val_loss: 0.1626 - val_accuracy: 0.9667\n",
            "Epoch 18/100\n",
            "132/132 [==============================] - 102s 769ms/step - loss: 0.0089 - accuracy: 0.9967 - val_loss: 0.0919 - val_accuracy: 0.9818\n",
            "Epoch 19/100\n",
            "132/132 [==============================] - 101s 765ms/step - loss: 0.0093 - accuracy: 0.9969 - val_loss: 0.1431 - val_accuracy: 0.9652\n",
            "Epoch 20/100\n",
            "132/132 [==============================] - 102s 768ms/step - loss: 0.0100 - accuracy: 0.9968 - val_loss: 0.2109 - val_accuracy: 0.9644\n",
            "Epoch 21/100\n",
            "132/132 [==============================] - 101s 765ms/step - loss: 0.0171 - accuracy: 0.9941 - val_loss: 0.1481 - val_accuracy: 0.9591\n",
            "Epoch 22/100\n",
            "132/132 [==============================] - 101s 766ms/step - loss: 0.0106 - accuracy: 0.9963 - val_loss: 0.2514 - val_accuracy: 0.9674\n",
            "Epoch 23/100\n",
            "132/132 [==============================] - 101s 765ms/step - loss: 0.0115 - accuracy: 0.9962 - val_loss: 0.1539 - val_accuracy: 0.9598\n",
            "Epoch 24/100\n",
            "132/132 [==============================] - 101s 764ms/step - loss: 0.0097 - accuracy: 0.9966 - val_loss: 0.2768 - val_accuracy: 0.9621\n",
            "Epoch 25/100\n",
            "132/132 [==============================] - 101s 765ms/step - loss: 0.0182 - accuracy: 0.9941 - val_loss: 0.8040 - val_accuracy: 0.9530\n",
            "Epoch 26/100\n",
            "132/132 [==============================] - 101s 767ms/step - loss: 0.0102 - accuracy: 0.9967 - val_loss: 0.1413 - val_accuracy: 0.9689\n",
            "Epoch 27/100\n",
            "132/132 [==============================] - 101s 764ms/step - loss: 0.0073 - accuracy: 0.9978 - val_loss: 0.5315 - val_accuracy: 0.9545\n",
            "Epoch 28/100\n",
            "132/132 [==============================] - 101s 765ms/step - loss: 0.0172 - accuracy: 0.9942 - val_loss: 0.2787 - val_accuracy: 0.9667\n",
            "Epoch 29/100\n",
            "132/132 [==============================] - 101s 765ms/step - loss: 0.0094 - accuracy: 0.9967 - val_loss: 0.2002 - val_accuracy: 0.9667\n",
            "Epoch 30/100\n",
            "132/132 [==============================] - 101s 765ms/step - loss: 0.0597 - accuracy: 0.9802 - val_loss: 0.5251 - val_accuracy: 0.9091\n",
            "Epoch 31/100\n",
            "132/132 [==============================] - 102s 772ms/step - loss: 0.0264 - accuracy: 0.9914 - val_loss: 0.1713 - val_accuracy: 0.9697\n",
            "Epoch 32/100\n",
            "132/132 [==============================] - 101s 765ms/step - loss: 0.0097 - accuracy: 0.9966 - val_loss: 0.1753 - val_accuracy: 0.9712\n",
            "Epoch 33/100\n",
            "132/132 [==============================] - 102s 768ms/step - loss: 0.0144 - accuracy: 0.9952 - val_loss: 0.2702 - val_accuracy: 0.9636\n",
            "Epoch 34/100\n",
            "132/132 [==============================] - 101s 765ms/step - loss: 0.0357 - accuracy: 0.9877 - val_loss: 0.3559 - val_accuracy: 0.9485\n",
            "Epoch 35/100\n",
            "132/132 [==============================] - 102s 768ms/step - loss: 0.0198 - accuracy: 0.9932 - val_loss: 0.1099 - val_accuracy: 0.9621\n",
            "Epoch 36/100\n",
            "132/132 [==============================] - 101s 764ms/step - loss: 0.0066 - accuracy: 0.9980 - val_loss: 0.1865 - val_accuracy: 0.9606\n",
            "Epoch 37/100\n",
            "132/132 [==============================] - 102s 767ms/step - loss: 0.0054 - accuracy: 0.9982 - val_loss: 0.2458 - val_accuracy: 0.9720\n",
            "Epoch 38/100\n",
            "132/132 [==============================] - 102s 768ms/step - loss: 0.0046 - accuracy: 0.9985 - val_loss: 0.2327 - val_accuracy: 0.9652\n",
            "Epoch 39/100\n",
            "132/132 [==============================] - 102s 768ms/step - loss: 0.0058 - accuracy: 0.9980 - val_loss: 0.2150 - val_accuracy: 0.9636\n",
            "Epoch 40/100\n",
            "132/132 [==============================] - 101s 764ms/step - loss: 0.0071 - accuracy: 0.9979 - val_loss: 0.2724 - val_accuracy: 0.9674\n",
            "Epoch 41/100\n",
            "132/132 [==============================] - 102s 768ms/step - loss: 0.0062 - accuracy: 0.9981 - val_loss: 0.1640 - val_accuracy: 0.9689\n",
            "Epoch 42/100\n",
            "132/132 [==============================] - 101s 765ms/step - loss: 0.0055 - accuracy: 0.9983 - val_loss: 0.1798 - val_accuracy: 0.9735\n",
            "Epoch 43/100\n",
            "132/132 [==============================] - 101s 767ms/step - loss: 0.1756 - accuracy: 0.9792 - val_loss: 39662084.0000 - val_accuracy: 0.4992\n",
            "Epoch 44/100\n",
            "132/132 [==============================] - 101s 762ms/step - loss: 2.8237 - accuracy: 0.6473 - val_loss: 536.5716 - val_accuracy: 0.5826\n",
            "Epoch 45/100\n",
            "132/132 [==============================] - 101s 764ms/step - loss: 0.4979 - accuracy: 0.8330 - val_loss: 0.4407 - val_accuracy: 0.8076\n",
            "Epoch 46/100\n",
            "132/132 [==============================] - 101s 765ms/step - loss: 0.2592 - accuracy: 0.8984 - val_loss: 0.2616 - val_accuracy: 0.9008\n",
            "Epoch 47/100\n",
            "132/132 [==============================] - 101s 765ms/step - loss: 0.2041 - accuracy: 0.9223 - val_loss: 0.1788 - val_accuracy: 0.9318\n",
            "Epoch 48/100\n",
            "132/132 [==============================] - 101s 766ms/step - loss: 0.1768 - accuracy: 0.9339 - val_loss: 0.1728 - val_accuracy: 0.9364\n",
            "Epoch 49/100\n",
            "132/132 [==============================] - 101s 765ms/step - loss: 0.1582 - accuracy: 0.9415 - val_loss: 0.1404 - val_accuracy: 0.9455\n",
            "Epoch 50/100\n",
            "132/132 [==============================] - 101s 761ms/step - loss: 0.1445 - accuracy: 0.9455 - val_loss: 0.1669 - val_accuracy: 0.9364\n",
            "Epoch 51/100\n",
            "132/132 [==============================] - 101s 765ms/step - loss: 0.1279 - accuracy: 0.9532 - val_loss: 0.1344 - val_accuracy: 0.9500\n",
            "Epoch 52/100\n",
            "132/132 [==============================] - 101s 765ms/step - loss: 0.1178 - accuracy: 0.9568 - val_loss: 0.1692 - val_accuracy: 0.9326\n",
            "Epoch 53/100\n",
            "132/132 [==============================] - 101s 762ms/step - loss: 0.1065 - accuracy: 0.9606 - val_loss: 0.1260 - val_accuracy: 0.9561\n",
            "Epoch 54/100\n",
            "132/132 [==============================] - 101s 765ms/step - loss: 0.0997 - accuracy: 0.9629 - val_loss: 0.1264 - val_accuracy: 0.9492\n",
            "Epoch 55/100\n",
            "132/132 [==============================] - 101s 767ms/step - loss: 0.0874 - accuracy: 0.9685 - val_loss: 0.1027 - val_accuracy: 0.9530\n",
            "Epoch 56/100\n",
            "132/132 [==============================] - 101s 765ms/step - loss: 0.0743 - accuracy: 0.9731 - val_loss: 0.1288 - val_accuracy: 0.9492\n",
            "Epoch 57/100\n",
            "132/132 [==============================] - 101s 766ms/step - loss: 0.0760 - accuracy: 0.9725 - val_loss: 0.1399 - val_accuracy: 0.9553\n",
            "Epoch 58/100\n",
            "132/132 [==============================] - 101s 762ms/step - loss: 0.0659 - accuracy: 0.9762 - val_loss: 0.1566 - val_accuracy: 0.9530\n",
            "Epoch 59/100\n",
            "132/132 [==============================] - 101s 760ms/step - loss: 0.0507 - accuracy: 0.9820 - val_loss: 0.1521 - val_accuracy: 0.9500\n",
            "Epoch 60/100\n",
            "132/132 [==============================] - 101s 765ms/step - loss: 0.0540 - accuracy: 0.9805 - val_loss: 0.1834 - val_accuracy: 0.9432\n",
            "Epoch 61/100\n",
            "132/132 [==============================] - 101s 762ms/step - loss: 0.0408 - accuracy: 0.9852 - val_loss: 0.1693 - val_accuracy: 0.9470\n",
            "Epoch 62/100\n",
            "132/132 [==============================] - 101s 765ms/step - loss: 0.0337 - accuracy: 0.9882 - val_loss: 0.1894 - val_accuracy: 0.9439\n",
            "Epoch 63/100\n",
            "132/132 [==============================] - 101s 767ms/step - loss: 0.0263 - accuracy: 0.9905 - val_loss: 0.2214 - val_accuracy: 0.9538\n",
            "Epoch 64/100\n",
            "132/132 [==============================] - 101s 762ms/step - loss: 0.0219 - accuracy: 0.9923 - val_loss: 0.2739 - val_accuracy: 0.9386\n",
            "Epoch 65/100\n",
            "132/132 [==============================] - 101s 763ms/step - loss: 0.0201 - accuracy: 0.9922 - val_loss: 0.2713 - val_accuracy: 0.9424\n",
            "Epoch 66/100\n",
            "132/132 [==============================] - 101s 767ms/step - loss: 0.1260 - accuracy: 0.9582 - val_loss: 0.1633 - val_accuracy: 0.9402\n",
            "Epoch 67/100\n",
            "132/132 [==============================] - 101s 763ms/step - loss: 0.1195 - accuracy: 0.9566 - val_loss: 0.1351 - val_accuracy: 0.9485\n",
            "Epoch 68/100\n",
            "132/132 [==============================] - 101s 766ms/step - loss: 0.0829 - accuracy: 0.9690 - val_loss: 0.1387 - val_accuracy: 0.9508\n",
            "Epoch 69/100\n",
            "132/132 [==============================] - 101s 763ms/step - loss: 0.0587 - accuracy: 0.9791 - val_loss: 0.1241 - val_accuracy: 0.9598\n",
            "Epoch 70/100\n",
            "132/132 [==============================] - 101s 766ms/step - loss: 0.0424 - accuracy: 0.9843 - val_loss: 0.1405 - val_accuracy: 0.9621\n",
            "Epoch 71/100\n",
            "132/132 [==============================] - 101s 766ms/step - loss: 0.0320 - accuracy: 0.9884 - val_loss: 0.1768 - val_accuracy: 0.9485\n",
            "Epoch 72/100\n",
            "132/132 [==============================] - 101s 765ms/step - loss: 0.0245 - accuracy: 0.9914 - val_loss: 0.2108 - val_accuracy: 0.9462\n",
            "Epoch 73/100\n",
            "132/132 [==============================] - 101s 762ms/step - loss: 0.0220 - accuracy: 0.9920 - val_loss: 0.1942 - val_accuracy: 0.9530\n",
            "Epoch 74/100\n",
            "132/132 [==============================] - 101s 763ms/step - loss: 0.0751 - accuracy: 0.9732 - val_loss: 0.1736 - val_accuracy: 0.9508\n",
            "Epoch 75/100\n",
            "132/132 [==============================] - 101s 766ms/step - loss: 0.0531 - accuracy: 0.9816 - val_loss: 0.1316 - val_accuracy: 0.9462\n",
            "Epoch 76/100\n",
            "132/132 [==============================] - 101s 766ms/step - loss: 0.0409 - accuracy: 0.9856 - val_loss: 0.2226 - val_accuracy: 0.9447\n",
            "Epoch 77/100\n",
            "132/132 [==============================] - 101s 762ms/step - loss: 0.0160 - accuracy: 0.9942 - val_loss: 0.1758 - val_accuracy: 0.9561\n",
            "Epoch 78/100\n",
            "132/132 [==============================] - 101s 766ms/step - loss: 0.0107 - accuracy: 0.9961 - val_loss: 0.2103 - val_accuracy: 0.9568\n",
            "Epoch 79/100\n",
            "132/132 [==============================] - 101s 766ms/step - loss: 0.0100 - accuracy: 0.9967 - val_loss: 0.2401 - val_accuracy: 0.9568\n",
            "Epoch 80/100\n",
            "132/132 [==============================] - 101s 766ms/step - loss: 0.0140 - accuracy: 0.9955 - val_loss: 0.2099 - val_accuracy: 0.9568\n",
            "Epoch 81/100\n",
            "132/132 [==============================] - 101s 767ms/step - loss: 0.0220 - accuracy: 0.9928 - val_loss: 0.1749 - val_accuracy: 0.9621\n",
            "Epoch 82/100\n",
            "132/132 [==============================] - 101s 767ms/step - loss: 0.0097 - accuracy: 0.9966 - val_loss: 0.2415 - val_accuracy: 0.9591\n",
            "Epoch 83/100\n",
            "132/132 [==============================] - 101s 762ms/step - loss: 0.0266 - accuracy: 0.9921 - val_loss: 0.1545 - val_accuracy: 0.9606\n",
            "Epoch 84/100\n",
            "132/132 [==============================] - 101s 766ms/step - loss: 0.0180 - accuracy: 0.9935 - val_loss: 0.2008 - val_accuracy: 0.9621\n",
            "Epoch 85/100\n",
            "132/132 [==============================] - 102s 767ms/step - loss: 0.0068 - accuracy: 0.9974 - val_loss: 0.2045 - val_accuracy: 0.9659\n",
            "Epoch 86/100\n",
            "132/132 [==============================] - 101s 763ms/step - loss: 0.0146 - accuracy: 0.9948 - val_loss: 0.1885 - val_accuracy: 0.9485\n",
            "Epoch 87/100\n",
            "132/132 [==============================] - 101s 767ms/step - loss: 0.0057 - accuracy: 0.9981 - val_loss: 0.2201 - val_accuracy: 0.9659\n",
            "Epoch 88/100\n",
            "132/132 [==============================] - 101s 766ms/step - loss: 0.0068 - accuracy: 0.9979 - val_loss: 0.1634 - val_accuracy: 0.9636\n",
            "Epoch 89/100\n",
            "132/132 [==============================] - 101s 763ms/step - loss: 0.0059 - accuracy: 0.9978 - val_loss: 0.2735 - val_accuracy: 0.9545\n",
            "Epoch 90/100\n",
            "132/132 [==============================] - 102s 769ms/step - loss: 0.0062 - accuracy: 0.9979 - val_loss: 0.3150 - val_accuracy: 0.9561\n",
            "Epoch 91/100\n",
            "132/132 [==============================] - 101s 767ms/step - loss: 0.0080 - accuracy: 0.9973 - val_loss: 0.2713 - val_accuracy: 0.9568\n",
            "Epoch 92/100\n",
            "132/132 [==============================] - 101s 763ms/step - loss: 0.0064 - accuracy: 0.9979 - val_loss: 0.3161 - val_accuracy: 0.9553\n",
            "Epoch 93/100\n",
            "132/132 [==============================] - 101s 763ms/step - loss: 0.0090 - accuracy: 0.9973 - val_loss: 0.3856 - val_accuracy: 0.9409\n",
            "Epoch 94/100\n",
            "132/132 [==============================] - 101s 760ms/step - loss: 0.0285 - accuracy: 0.9903 - val_loss: 0.2667 - val_accuracy: 0.9462\n",
            "Epoch 95/100\n",
            "132/132 [==============================] - 101s 763ms/step - loss: 0.0095 - accuracy: 0.9965 - val_loss: 0.2366 - val_accuracy: 0.9538\n",
            "Epoch 96/100\n",
            "132/132 [==============================] - 101s 764ms/step - loss: 0.0069 - accuracy: 0.9977 - val_loss: 0.1867 - val_accuracy: 0.9591\n",
            "Epoch 97/100\n",
            "132/132 [==============================] - 101s 766ms/step - loss: 0.1032 - accuracy: 0.9652 - val_loss: 0.3423 - val_accuracy: 0.8735\n",
            "Epoch 98/100\n",
            "132/132 [==============================] - 101s 763ms/step - loss: 0.0714 - accuracy: 0.9740 - val_loss: 0.1508 - val_accuracy: 0.9424\n",
            "Epoch 99/100\n",
            "132/132 [==============================] - 101s 763ms/step - loss: 0.0283 - accuracy: 0.9902 - val_loss: 0.1452 - val_accuracy: 0.9636\n",
            "Epoch 100/100\n",
            "132/132 [==============================] - 101s 762ms/step - loss: 0.0306 - accuracy: 0.9898 - val_loss: 0.1435 - val_accuracy: 0.9705\n"
          ]
        }
      ]
    },
    {
      "cell_type": "code",
      "source": [
        "print(fit_history.history.keys())\n",
        "\n",
        "plt.figure(1, figsize = (15,8)) \n",
        "    \n",
        "plt.subplot(221)  \n",
        "plt.plot(fit_history.history['accuracy'])  \n",
        "plt.plot(fit_history.history['val_accuracy'])  \n",
        "plt.title('model accuracy')  \n",
        "plt.ylabel('accuracy')  \n",
        "plt.xlabel('epoch')  \n",
        "plt.legend(['train', 'valid']) \n",
        "    \n",
        "plt.subplot(222)  \n",
        "plt.plot(fit_history.history['loss'])  \n",
        "plt.plot(fit_history.history['val_loss'])  \n",
        "plt.title('model loss')  \n",
        "plt.ylabel('loss')  \n",
        "plt.xlabel('epoch')  \n",
        "plt.legend(['train', 'valid']) \n",
        "\n",
        "plt.show()\n",
        "\n",
        "test_generator = data_generator.flow_from_directory(\n",
        "    directory = '/content/Validation',\n",
        "    target_size = (image_size, image_size),\n",
        "    batch_size = BATCH_SIZE_TESTING,\n",
        "    class_mode = None,\n",
        "    shuffle = False,\n",
        "    seed = 123\n",
        ")\n",
        "\n",
        "test_generator.reset()\n",
        "\n",
        "pred = model.predict_generator(test_generator, steps = len(test_generator), verbose = 1)\n",
        "\n",
        "predicted_class_indices = np.argmax(pred, axis = 1)\n",
        "\n",
        "print(predicted_class_indices)"
      ],
      "metadata": {
        "colab": {
          "base_uri": "https://localhost:8080/",
          "height": 374
        },
        "id": "4ctak-f_ep29",
        "outputId": "3a4cfcce-1ac0-4ff6-8c25-0264fc6ee99e"
      },
      "execution_count": null,
      "outputs": [
        {
          "output_type": "stream",
          "name": "stdout",
          "text": [
            "dict_keys(['loss', 'accuracy', 'val_loss', 'val_accuracy'])\n"
          ]
        },
        {
          "output_type": "display_data",
          "data": {
            "text/plain": [
              "<Figure size 1080x576 with 2 Axes>"
            ],
            "image/png": "[encoded data removed]"
          },
          "metadata": {
            "needs_background": "light"
          }
        },
        {
          "output_type": "stream",
          "name": "stdout",
          "text": [
            "Found 11649 images belonging to 2 classes.\n"
          ]
        },
        {
          "output_type": "stream",
          "name": "stderr",
          "text": [
            "/usr/local/lib/python3.7/dist-packages/ipykernel_launcher.py:34: UserWarning: `Model.predict_generator` is deprecated and will be removed in a future version. Please use `Model.predict`, which supports generators.\n"
          ]
        },
        {
          "output_type": "stream",
          "name": "stdout",
          "text": [
            "11649/11649 [==============================] - 114s 10ms/step\n",
            "[0 0 0 ... 1 1 1]\n"
          ]
        }
      ]
    },
    {
      "cell_type": "code",
      "source": [
        "model.save('/content/drive/MyDrive/models/new_gender_model.hdf5')"
      ],
      "metadata": {
        "id": "ENc6mDZaS1pJ"
      },
      "execution_count": null,
      "outputs": []
    },
    {
      "cell_type": "code",
      "source": [
        "a=load_model('/content/drive/MyDrive/models/new_gender_model.hdf5')"
      ],
      "metadata": {
        "id": "06ZRJPEBo57O"
      },
      "execution_count": null,
      "outputs": []
    },
    {
      "cell_type": "code",
      "source": [
        "from keras.models import load_model\n",
        "import cv2\n",
        "import numpy as np\n",
        "\n",
        "model = a\n",
        "\n",
        "#model.compile(loss='categorical_crossentropy',\n",
        "            #  optimizer='adam',\n",
        "            #  metrics=['accuracy'])\n",
        "\n",
        "img = cv2.imread('/content/m3.jpg')\n",
        "img = cv2.resize(img,(96,96))\n",
        "img = np.reshape(img,[1,96,96,3])\n",
        "\n",
        "#classes = model.predict_classes(img)\n",
        "gen=model.predict(img)\n",
        "gen_ind=np.argmax(gen)\n",
        "print(gen_ind)\n",
        "#print(classes)\n",
        "gender_bucket=['female','male']\n",
        "print(gender_bucket[gen_ind])"
      ],
      "metadata": {
        "colab": {
          "base_uri": "https://localhost:8080/"
        },
        "id": "PQnRxnS2pHp_",
        "outputId": "a23778f5-c371-4a37-95a5-f44dcf35319b"
      },
      "execution_count": null,
      "outputs": [
        {
          "output_type": "stream",
          "name": "stdout",
          "text": [
            "1\n",
            "male\n"
          ]
        }
      ]
    },
    {
      "cell_type": "code",
      "source": [
        "#image=cv2.imread(\"/content/m3.jpg\")\n"
      ],
      "metadata": {
        "id": "r2uMQuWdLlZt"
      },
      "execution_count": null,
      "outputs": []
    },
    {
      "cell_type": "code",
      "source": [
        "a.summary()"
      ],
      "metadata": {
        "colab": {
          "base_uri": "https://localhost:8080/"
        },
        "id": "hHWfQNJiqljT",
        "outputId": "e834265d-6825-4e21-eb11-795592d325dd"
      },
      "execution_count": null,
      "outputs": [
        {
          "output_type": "stream",
          "name": "stdout",
          "text": [
            "Model: \"sequential\"\n",
            "_________________________________________________________________\n",
            " Layer (type)                Output Shape              Param #   \n",
            "=================================================================\n",
            " model (Functional)          (None, 2048)              23587712  \n",
            "                                                                 \n",
            " dense (Dense)               (None, 2048)              4196352   \n",
            "                                                                 \n",
            " leaky_re_lu (LeakyReLU)     (None, 2048)              0         \n",
            "                                                                 \n",
            " dropout (Dropout)           (None, 2048)              0         \n",
            "                                                                 \n",
            " dense_1 (Dense)             (None, 1024)              2098176   \n",
            "                                                                 \n",
            " leaky_re_lu_1 (LeakyReLU)   (None, 1024)              0         \n",
            "                                                                 \n",
            " dropout_1 (Dropout)         (None, 1024)              0         \n",
            "                                                                 \n",
            " dense_2 (Dense)             (None, 512)               524800    \n",
            "                                                                 \n",
            " leaky_re_lu_2 (LeakyReLU)   (None, 512)               0         \n",
            "                                                                 \n",
            " dropout_2 (Dropout)         (None, 512)               0         \n",
            "                                                                 \n",
            " dense_3 (Dense)             (None, 256)               131328    \n",
            "                                                                 \n",
            " leaky_re_lu_3 (LeakyReLU)   (None, 256)               0         \n",
            "                                                                 \n",
            " dropout_3 (Dropout)         (None, 256)               0         \n",
            "                                                                 \n",
            " dense_4 (Dense)             (None, 2)                 514       \n",
            "                                                                 \n",
            "=================================================================\n",
            "Total params: 30,538,882\n",
            "Trainable params: 30,485,762\n",
            "Non-trainable params: 53,120\n",
            "_________________________________________________________________\n"
          ]
        }
      ]
    }
  ]
}
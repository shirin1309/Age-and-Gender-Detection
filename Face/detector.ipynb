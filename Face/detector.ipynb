{
 "cells": [
  {
   "cell_type": "code",
   "execution_count": 1,
   "metadata": {},
   "outputs": [],
   "source": [
    "import cv2\n",
    "import os\n",
    "import matplotlib.pyplot as plt\n",
    "import matplotlib.image as mpimg\n",
    "import numpy as np"
   ]
  },
  {
   "cell_type": "code",
   "execution_count": 2,
   "metadata": {},
   "outputs": [],
   "source": [
    "direct = \"C:\\\\Users\\\\BALORIAN\\\\My_Project\\\\celeb\\\\Celeb-synthesis\"\n",
    "for videos in os.listdir(direct):\n",
    "    cap = cv2.VideoCapture(\"C:\\\\Users\\\\BALORIAN\\\\My_Project\\\\celeb\\\\Celeb-synthesis\"+\"\\\\\"+videos)\n",
    "    i = 0\n",
    "    while(cap.isOpened()):\n",
    "        ret, frame = cap.read()\n",
    "        # This condition prevents from infinite looping\n",
    "        # incase video ends.\n",
    "        if ret == False or i == 30:\n",
    "            break\n",
    "        # Save Frame by Frame into disk using imwrite method\n",
    "        f ='C:\\\\Users\\\\BALORIAN\\\\My_Project\\\\frames\\\\frames_deepfakes'\n",
    "        cv2.imwrite(os.path.join(f,videos+str(i)+'.jpg'), frame)\n",
    "        i += 1\n",
    "    \n",
    "cap.release()\n",
    "cv2.destroyAllWindows()\n",
    "    \n",
    "\n"
   ]
  },
  {
   "cell_type": "code",
   "execution_count": 18,
   "metadata": {},
   "outputs": [],
   "source": [
    "import glob\n",
    "\n",
    "face_cascade = cv2.CascadeClassifier('haarcascade_frontalface_default.xml')\n",
    "\n",
    "path = \"D:\\\\Face\\\\age_4_6\\\\*.*\"\n",
    "img_number = 1\n",
    "img_list = glob.glob(path)\n",
    "\n",
    "for file in img_list:\n",
    "    img= cv2.imread(file, 1)  \n",
    "    gray = cv2.cvtColor(img, cv2.COLOR_BGR2GRAY)\n",
    "    faces = face_cascade.detectMultiScale(gray, 1.3, 5)\n",
    "    try:\n",
    "        for (x,y,w,h) in faces:\n",
    "            roi_color = img[y:y+h, x:x+w]\n",
    "        resized = cv2.resize(roi_color, (256,256))\n",
    "        cv2.imwrite(\"D:\\\\Face\\\\valid\\\\age_4_6\\\\\"+\"gad\"+str(img_number)+\".jpg\", resized)\n",
    "    except:\n",
    "        print(\"No faces detected\")\n",
    "   \n",
    "   \n",
    "    img_number +=1  "
   ]
  },
  {
   "cell_type": "code",
   "execution_count": null,
   "metadata": {},
   "outputs": [],
   "source": []
  }
 ],
 "metadata": {
  "kernelspec": {
   "display_name": "Python 3",
   "language": "python",
   "name": "python3"
  },
  "language_info": {
   "codemirror_mode": {
    "name": "ipython",
    "version": 3
   },
   "file_extension": ".py",
   "mimetype": "text/x-python",
   "name": "python",
   "nbconvert_exporter": "python",
   "pygments_lexer": "ipython3",
   "version": "3.6.5"
  }
 },
 "nbformat": 4,
 "nbformat_minor": 5
}

{
  "cells": [
    {
      "cell_type": "markdown",
      "metadata": {
        "id": "view-in-github",
        "colab_type": "text"
      },
      "source": [
        "<a href=\"https://colab.research.google.com/github/shirin1309/Age-and-Gender-Detection/blob/main/age_model_new.ipynb\" target=\"_parent\"><img src=\"https://colab.research.google.com/assets/colab-badge.svg\" alt=\"Open In Colab\"/></a>"
      ]
    },
    {
      "cell_type": "code",
      "execution_count": null,
      "metadata": {
        "id": "DcW2jmXMytFP"
      },
      "outputs": [],
      "source": [
        "import numpy as np\n",
        "import pandas as pd\n",
        "import matplotlib.pyplot as plt\n",
        "import cv2\n",
        "import os\n",
        "\n",
        "NUM_CLASSES = 8\n",
        "\n",
        "CHANNELS = 3\n",
        "\n",
        "IMAGE_RESIZE = 96\n",
        "\n",
        "NUM_EPOCHS = 200\n",
        "\n",
        "STEPS_PER_EPOCH_TRAINING = 20\n",
        "STEPS_PER_EPOCH_VALIDATION = 20\n",
        "\n",
        "BATCH_SIZE_TRAINING = 80\n",
        "BATCH_SIZE_VALIDATION = 30\n",
        "\n",
        "BATCH_SIZE_TESTING = 1\n",
        "\n"
      ]
    },
    {
      "cell_type": "code",
      "source": [
        "from google.colab import drive\n",
        "drive.mount('/content/drive')"
      ],
      "metadata": {
        "colab": {
          "base_uri": "https://localhost:8080/"
        },
        "id": "3CxPLLTYyz2M",
        "outputId": "fc7f7498-2ea9-4e07-ce07-c5ee3632f971"
      },
      "execution_count": null,
      "outputs": [
        {
          "output_type": "stream",
          "name": "stdout",
          "text": [
            "Mounted at /content/drive\n"
          ]
        }
      ]
    },
    {
      "cell_type": "code",
      "execution_count": null,
      "metadata": {
        "colab": {
          "base_uri": "https://localhost:8080/"
        },
        "id": "JD3U0tDTytFX",
        "outputId": "729eb43f-1a5a-44da-fd4e-2f4853026d84"
      },
      "outputs": [
        {
          "output_type": "stream",
          "name": "stdout",
          "text": [
            "Found 10196 images belonging to 8 classes.\n",
            "Found 2400 images belonging to 8 classes.\n"
          ]
        }
      ],
      "source": [
        "from tensorflow.keras.applications import ResNet50\n",
        "from tensorflow.python.keras.models import Sequential\n",
        "from tensorflow.python.keras.layers import Dense\n",
        "from tensorflow.keras.applications.resnet50 import ResNet50\n",
        "from keras.models import Model\n",
        "import keras\n",
        "from keras.layers import Conv2D, MaxPooling2D, Flatten, Dense, Dropout, InputLayer, GlobalAveragePooling2D, LeakyReLU\n",
        "from keras.models import Sequential\n",
        "from keras import optimizers\n",
        "\n",
        "\n",
        "\n",
        "\n",
        "from tensorflow.keras.applications.resnet50 import preprocess_input\n",
        "from keras.preprocessing.image import ImageDataGenerator\n",
        "\n",
        "image_size = IMAGE_RESIZE\n",
        "\n",
        "data_generator = ImageDataGenerator(preprocessing_function=preprocess_input)\n",
        "\n",
        "train_generator = data_generator.flow_from_directory(\n",
        "        '/content/drive/MyDrive/shirin_age_model/dataset/train',\n",
        "        target_size=(image_size, image_size),\n",
        "        batch_size=BATCH_SIZE_TRAINING,\n",
        "        class_mode='categorical')\n",
        "\n",
        "validation_generator = data_generator.flow_from_directory(\n",
        "        '/content/drive/MyDrive/shirin_age_model/dataset/valid',\n",
        "        target_size=(image_size, image_size),\n",
        "        batch_size=BATCH_SIZE_VALIDATION,\n",
        "        class_mode='categorical') \n",
        "\n"
      ]
    },
    {
      "cell_type": "code",
      "execution_count": null,
      "metadata": {
        "id": "ybSFUvukytFZ"
      },
      "outputs": [],
      "source": [
        "def conv_pool_cnn(dim=224,freeze_layers=10,full_freeze='N'):\n",
        "\n",
        "  model = ResNet50(include_top=False)\n",
        "  x = model.output\n",
        "  x = GlobalAveragePooling2D()(x)\n",
        "  \n",
        "  model = Model(inputs = model.input,outputs=x)\n",
        "  \n",
        "  model_final = Sequential()\n",
        "  model_final.add(model)\n",
        "  \n",
        "  model_final.add(Dense(2048))\n",
        "  model_final.add(LeakyReLU(alpha=0.2))\n",
        "  model_final.add(Dropout(0.1))\n",
        "  \n",
        "  model_final.add(Dense(1024))\n",
        "  model_final.add(LeakyReLU(alpha=0.2))\n",
        "  model_final.add(Dropout(0.1))\n",
        "  \n",
        "  model_final.add(Dense(512))\n",
        "  model_final.add(LeakyReLU(alpha=0.2))\n",
        "  model_final.add(Dropout(0.2))\n",
        "  \n",
        "  model_final.add(Dense(256))\n",
        "  model_final.add(LeakyReLU(alpha=0.2))\n",
        "  model_final.add(Dropout(0.2))\n",
        "    \n",
        "  model_final.add(Dense(128))\n",
        "  model_final.add(LeakyReLU(alpha=0.2))\n",
        "  model_final.add(Dropout(0.2))\n",
        "\n",
        "  model_final.add(Dense(8,activation='softmax'))\n",
        "  \n",
        "  model_final.compile(loss = 'categorical_crossentropy', optimizer = 'adam', metrics = ['accuracy'])\n",
        "  \n",
        "  \n",
        "  if full_freeze != 'N':\n",
        "    for layer in model.layers[0:freeze_layers]:\n",
        "      layer.trainable = False\n",
        "  model_final.summary()\n",
        "  return model_final\n"
      ]
    },
    {
      "cell_type": "code",
      "execution_count": null,
      "metadata": {
        "id": "rAHaEzeUytFb",
        "colab": {
          "base_uri": "https://localhost:8080/"
        },
        "outputId": "b140a1df-0a08-414a-cb51-0b51bfc686a2"
      },
      "outputs": [
        {
          "output_type": "stream",
          "name": "stdout",
          "text": [
            "Model: \"sequential_1\"\n",
            "_________________________________________________________________\n",
            " Layer (type)                Output Shape              Param #   \n",
            "=================================================================\n",
            " model_1 (Functional)        (None, 2048)              23587712  \n",
            "                                                                 \n",
            " dense_6 (Dense)             (None, 2048)              4196352   \n",
            "                                                                 \n",
            " leaky_re_lu_5 (LeakyReLU)   (None, 2048)              0         \n",
            "                                                                 \n",
            " dropout_5 (Dropout)         (None, 2048)              0         \n",
            "                                                                 \n",
            " dense_7 (Dense)             (None, 1024)              2098176   \n",
            "                                                                 \n",
            " leaky_re_lu_6 (LeakyReLU)   (None, 1024)              0         \n",
            "                                                                 \n",
            " dropout_6 (Dropout)         (None, 1024)              0         \n",
            "                                                                 \n",
            " dense_8 (Dense)             (None, 512)               524800    \n",
            "                                                                 \n",
            " leaky_re_lu_7 (LeakyReLU)   (None, 512)               0         \n",
            "                                                                 \n",
            " dropout_7 (Dropout)         (None, 512)               0         \n",
            "                                                                 \n",
            " dense_9 (Dense)             (None, 256)               131328    \n",
            "                                                                 \n",
            " leaky_re_lu_8 (LeakyReLU)   (None, 256)               0         \n",
            "                                                                 \n",
            " dropout_8 (Dropout)         (None, 256)               0         \n",
            "                                                                 \n",
            " dense_10 (Dense)            (None, 128)               32896     \n",
            "                                                                 \n",
            " leaky_re_lu_9 (LeakyReLU)   (None, 128)               0         \n",
            "                                                                 \n",
            " dropout_9 (Dropout)         (None, 128)               0         \n",
            "                                                                 \n",
            " dense_11 (Dense)            (None, 8)                 1032      \n",
            "                                                                 \n",
            "=================================================================\n",
            "Total params: 30,572,296\n",
            "Trainable params: 30,519,176\n",
            "Non-trainable params: 53,120\n",
            "_________________________________________________________________\n"
          ]
        }
      ],
      "source": [
        "model = conv_pool_cnn()\n",
        "#model_2.summary()"
      ]
    },
    {
      "cell_type": "code",
      "source": [
        "from keras.callbacks import ModelCheckpoint\n",
        "filepath = '/content/drive/MyDrive/shirin_age_model/model_age-ep{epoch:02d}-loss{loss:.3f}-val_loss{val_loss:.3f}.h5'\n",
        "\n",
        "callbacks = [ModelCheckpoint(filepath= filepath, save_best_only=False, monitor='val_loss') ]"
      ],
      "metadata": {
        "id": "Y3xM0FANZWWm"
      },
      "execution_count": null,
      "outputs": []
    },
    {
      "cell_type": "code",
      "execution_count": null,
      "metadata": {
        "colab": {
          "base_uri": "https://localhost:8080/"
        },
        "id": "RFDED-HSytFc",
        "outputId": "84232b42-fc9f-491e-87d3-3abfe10159e9"
      },
      "outputs": [
        {
          "metadata": {
            "tags": null
          },
          "name": "stderr",
          "output_type": "stream",
          "text": [
            "/usr/local/lib/python3.7/dist-packages/ipykernel_launcher.py:10: UserWarning: `Model.fit_generator` is deprecated and will be removed in a future version. Please use `Model.fit`, which supports generators.\n",
            "  # Remove the CWD from sys.path while we load stuff.\n"
          ]
        },
        {
          "output_type": "stream",
          "name": "stdout",
          "text": [
            "Epoch 1/200\n",
            "20/20 [==============================] - 307s 16s/step - loss: 2.0061 - accuracy: 0.3361 - val_loss: 6.3674 - val_accuracy: 0.1750\n",
            "Epoch 2/200\n",
            "20/20 [==============================] - 250s 13s/step - loss: 1.5149 - accuracy: 0.4575 - val_loss: 28.1507 - val_accuracy: 0.1583\n",
            "Epoch 3/200\n",
            "20/20 [==============================] - 205s 10s/step - loss: 1.3784 - accuracy: 0.5106 - val_loss: 7.2545 - val_accuracy: 0.1650\n",
            "Epoch 4/200\n",
            "20/20 [==============================] - 150s 8s/step - loss: 1.3063 - accuracy: 0.5181 - val_loss: 55.6434 - val_accuracy: 0.1617\n",
            "Epoch 5/200\n",
            "20/20 [==============================] - 134s 7s/step - loss: 1.2386 - accuracy: 0.5556 - val_loss: 30.2762 - val_accuracy: 0.2333\n",
            "Epoch 6/200\n",
            "20/20 [==============================] - 110s 6s/step - loss: 1.2217 - accuracy: 0.5350 - val_loss: 8.5302 - val_accuracy: 0.3350\n",
            "Epoch 7/200\n",
            "20/20 [==============================] - 92s 5s/step - loss: 1.1631 - accuracy: 0.5669 - val_loss: 2.5941 - val_accuracy: 0.4083\n",
            "Epoch 8/200\n",
            "20/20 [==============================] - 81s 4s/step - loss: 1.1100 - accuracy: 0.6119 - val_loss: 1.8523 - val_accuracy: 0.4400\n",
            "Epoch 9/200\n",
            "20/20 [==============================] - 60s 3s/step - loss: 1.0480 - accuracy: 0.6187 - val_loss: 2.8199 - val_accuracy: 0.4183\n",
            "Epoch 10/200\n",
            "20/20 [==============================] - 52s 3s/step - loss: 1.0053 - accuracy: 0.6344 - val_loss: 2.7336 - val_accuracy: 0.3917\n",
            "Epoch 11/200\n",
            "20/20 [==============================] - 50s 3s/step - loss: 1.0027 - accuracy: 0.6356 - val_loss: 7.5491 - val_accuracy: 0.3833\n",
            "Epoch 12/200\n",
            "20/20 [==============================] - 40s 2s/step - loss: 0.9629 - accuracy: 0.6625 - val_loss: 1.7953 - val_accuracy: 0.4983\n",
            "Epoch 13/200\n",
            "20/20 [==============================] - 34s 2s/step - loss: 0.8902 - accuracy: 0.6819 - val_loss: 2.7216 - val_accuracy: 0.3983\n",
            "Epoch 14/200\n",
            "20/20 [==============================] - 30s 2s/step - loss: 0.9327 - accuracy: 0.6750 - val_loss: 2.2689 - val_accuracy: 0.4333\n",
            "Epoch 15/200\n",
            "20/20 [==============================] - 26s 1s/step - loss: 0.9048 - accuracy: 0.6750 - val_loss: 1.5058 - val_accuracy: 0.5150\n",
            "Epoch 16/200\n",
            "20/20 [==============================] - 21s 1s/step - loss: 0.8381 - accuracy: 0.7125 - val_loss: 1.1831 - val_accuracy: 0.5917\n",
            "Epoch 17/200\n",
            "20/20 [==============================] - 22s 1s/step - loss: 0.7598 - accuracy: 0.7325 - val_loss: 1.2544 - val_accuracy: 0.5250\n",
            "Epoch 18/200\n",
            "20/20 [==============================] - 19s 929ms/step - loss: 0.7932 - accuracy: 0.7404 - val_loss: 1.2440 - val_accuracy: 0.5417\n",
            "Epoch 19/200\n",
            "20/20 [==============================] - 18s 887ms/step - loss: 0.7890 - accuracy: 0.7250 - val_loss: 1.6006 - val_accuracy: 0.4667\n",
            "Epoch 20/200\n",
            "20/20 [==============================] - 15s 724ms/step - loss: 0.7941 - accuracy: 0.7269 - val_loss: 1.6786 - val_accuracy: 0.5117\n",
            "Epoch 21/200\n",
            "20/20 [==============================] - 15s 766ms/step - loss: 0.7582 - accuracy: 0.7500 - val_loss: 1.0353 - val_accuracy: 0.5983\n",
            "Epoch 22/200\n",
            "20/20 [==============================] - 15s 757ms/step - loss: 0.7169 - accuracy: 0.7481 - val_loss: 1.3748 - val_accuracy: 0.5700\n",
            "Epoch 23/200\n",
            "20/20 [==============================] - 14s 689ms/step - loss: 0.7073 - accuracy: 0.7538 - val_loss: 1.4358 - val_accuracy: 0.5750\n",
            "Epoch 24/200\n",
            "20/20 [==============================] - 13s 659ms/step - loss: 0.7117 - accuracy: 0.7706 - val_loss: 1.2557 - val_accuracy: 0.5900\n",
            "Epoch 25/200\n",
            "20/20 [==============================] - 14s 706ms/step - loss: 0.6050 - accuracy: 0.7919 - val_loss: 1.2150 - val_accuracy: 0.6433\n",
            "Epoch 26/200\n",
            "20/20 [==============================] - 13s 624ms/step - loss: 0.6472 - accuracy: 0.7794 - val_loss: 1.0957 - val_accuracy: 0.6617\n",
            "Epoch 27/200\n",
            "20/20 [==============================] - 12s 591ms/step - loss: 0.6352 - accuracy: 0.7886 - val_loss: 1.0556 - val_accuracy: 0.6350\n",
            "Epoch 28/200\n",
            "20/20 [==============================] - 11s 551ms/step - loss: 0.5413 - accuracy: 0.8263 - val_loss: 1.4713 - val_accuracy: 0.5800\n",
            "Epoch 29/200\n",
            "20/20 [==============================] - 11s 541ms/step - loss: 0.6345 - accuracy: 0.8000 - val_loss: 0.7249 - val_accuracy: 0.7633\n",
            "Epoch 30/200\n",
            "20/20 [==============================] - 10s 485ms/step - loss: 0.4824 - accuracy: 0.8419 - val_loss: 0.9781 - val_accuracy: 0.6833\n",
            "Epoch 31/200\n",
            "20/20 [==============================] - 12s 566ms/step - loss: 0.5516 - accuracy: 0.8219 - val_loss: 1.0963 - val_accuracy: 0.6567\n",
            "Epoch 32/200\n",
            "20/20 [==============================] - 14s 694ms/step - loss: 0.5330 - accuracy: 0.8269 - val_loss: 0.8778 - val_accuracy: 0.7117\n",
            "Epoch 33/200\n",
            "20/20 [==============================] - 15s 729ms/step - loss: 0.5407 - accuracy: 0.8288 - val_loss: 0.6387 - val_accuracy: 0.7933\n",
            "Epoch 34/200\n",
            "20/20 [==============================] - 16s 810ms/step - loss: 0.4426 - accuracy: 0.8631 - val_loss: 0.9026 - val_accuracy: 0.7317\n",
            "Epoch 35/200\n",
            "20/20 [==============================] - 15s 785ms/step - loss: 0.4543 - accuracy: 0.8494 - val_loss: 0.8165 - val_accuracy: 0.7467\n",
            "Epoch 36/200\n",
            "20/20 [==============================] - 16s 749ms/step - loss: 0.4728 - accuracy: 0.8587 - val_loss: 0.7904 - val_accuracy: 0.7533\n",
            "Epoch 37/200\n",
            "20/20 [==============================] - 16s 799ms/step - loss: 0.4670 - accuracy: 0.8487 - val_loss: 0.5797 - val_accuracy: 0.8233\n",
            "Epoch 38/200\n",
            "20/20 [==============================] - 16s 767ms/step - loss: 0.4171 - accuracy: 0.8769 - val_loss: 0.8055 - val_accuracy: 0.7283\n",
            "Epoch 39/200\n",
            "20/20 [==============================] - 14s 681ms/step - loss: 0.4867 - accuracy: 0.8487 - val_loss: 0.7895 - val_accuracy: 0.7750\n",
            "Epoch 40/200\n",
            "20/20 [==============================] - 16s 825ms/step - loss: 0.4200 - accuracy: 0.8737 - val_loss: 0.5660 - val_accuracy: 0.8350\n",
            "Epoch 41/200\n",
            "20/20 [==============================] - 16s 789ms/step - loss: 0.4232 - accuracy: 0.8719 - val_loss: 0.5905 - val_accuracy: 0.8117\n",
            "Epoch 42/200\n",
            "20/20 [==============================] - 16s 803ms/step - loss: 0.4488 - accuracy: 0.8481 - val_loss: 0.6552 - val_accuracy: 0.7667\n",
            "Epoch 43/200\n",
            "20/20 [==============================] - 14s 696ms/step - loss: 0.3847 - accuracy: 0.8763 - val_loss: 0.4870 - val_accuracy: 0.8550\n",
            "Epoch 44/200\n",
            "20/20 [==============================] - 13s 681ms/step - loss: 0.4386 - accuracy: 0.8631 - val_loss: 0.5851 - val_accuracy: 0.8167\n",
            "Epoch 45/200\n",
            "20/20 [==============================] - 13s 638ms/step - loss: 0.3692 - accuracy: 0.8844 - val_loss: 0.4986 - val_accuracy: 0.8783\n",
            "Epoch 46/200\n",
            "20/20 [==============================] - 13s 673ms/step - loss: 0.3733 - accuracy: 0.8925 - val_loss: 0.6741 - val_accuracy: 0.7933\n",
            "Epoch 47/200\n",
            "20/20 [==============================] - 11s 544ms/step - loss: 0.3385 - accuracy: 0.8938 - val_loss: 0.8314 - val_accuracy: 0.7750\n",
            "Epoch 48/200\n",
            "20/20 [==============================] - 13s 663ms/step - loss: 0.3678 - accuracy: 0.8895 - val_loss: 0.5610 - val_accuracy: 0.8133\n",
            "Epoch 49/200\n",
            "20/20 [==============================] - 11s 564ms/step - loss: 0.3661 - accuracy: 0.8869 - val_loss: 0.7964 - val_accuracy: 0.7483\n",
            "Epoch 50/200\n",
            "20/20 [==============================] - 11s 573ms/step - loss: 0.2712 - accuracy: 0.9144 - val_loss: 0.6468 - val_accuracy: 0.7917\n",
            "Epoch 51/200\n",
            "20/20 [==============================] - 11s 540ms/step - loss: 0.3996 - accuracy: 0.8800 - val_loss: 0.6224 - val_accuracy: 0.7983\n",
            "Epoch 52/200\n",
            "20/20 [==============================] - 10s 477ms/step - loss: 0.3119 - accuracy: 0.9056 - val_loss: 0.5836 - val_accuracy: 0.8333\n",
            "Epoch 53/200\n",
            "20/20 [==============================] - 10s 524ms/step - loss: 0.3631 - accuracy: 0.8881 - val_loss: 0.4189 - val_accuracy: 0.8733\n",
            "Epoch 54/200\n",
            "20/20 [==============================] - 10s 479ms/step - loss: 0.3212 - accuracy: 0.9062 - val_loss: 0.9303 - val_accuracy: 0.7400\n",
            "Epoch 55/200\n",
            "20/20 [==============================] - 10s 509ms/step - loss: 0.3054 - accuracy: 0.9068 - val_loss: 0.8445 - val_accuracy: 0.7333\n",
            "Epoch 56/200\n",
            "20/20 [==============================] - 10s 502ms/step - loss: 0.3008 - accuracy: 0.9075 - val_loss: 0.4898 - val_accuracy: 0.8500\n",
            "Epoch 57/200\n",
            "20/20 [==============================] - 10s 491ms/step - loss: 0.3106 - accuracy: 0.9030 - val_loss: 0.3549 - val_accuracy: 0.9100\n",
            "Epoch 58/200\n",
            "20/20 [==============================] - 10s 517ms/step - loss: 0.2454 - accuracy: 0.9294 - val_loss: 0.3203 - val_accuracy: 0.9050\n",
            "Epoch 59/200\n",
            "20/20 [==============================] - 10s 476ms/step - loss: 0.2951 - accuracy: 0.9137 - val_loss: 0.4494 - val_accuracy: 0.8633\n",
            "Epoch 60/200\n",
            "20/20 [==============================] - 16s 794ms/step - loss: 0.3070 - accuracy: 0.9019 - val_loss: 0.5232 - val_accuracy: 0.8533\n",
            "Epoch 61/200\n",
            "20/20 [==============================] - 16s 771ms/step - loss: 0.2774 - accuracy: 0.9171 - val_loss: 0.5888 - val_accuracy: 0.8317\n",
            "Epoch 62/200\n",
            "20/20 [==============================] - 16s 801ms/step - loss: 0.2681 - accuracy: 0.9187 - val_loss: 0.5008 - val_accuracy: 0.8533\n",
            "Epoch 63/200\n",
            "20/20 [==============================] - 14s 685ms/step - loss: 0.2249 - accuracy: 0.9344 - val_loss: 0.4842 - val_accuracy: 0.8533\n",
            "Epoch 64/200\n",
            "20/20 [==============================] - 17s 778ms/step - loss: 0.2329 - accuracy: 0.9312 - val_loss: 0.5476 - val_accuracy: 0.8333\n",
            "Epoch 65/200\n",
            "20/20 [==============================] - 17s 851ms/step - loss: 0.2579 - accuracy: 0.9225 - val_loss: 0.3525 - val_accuracy: 0.8883\n",
            "Epoch 66/200\n",
            "20/20 [==============================] - 15s 757ms/step - loss: 0.2431 - accuracy: 0.9300 - val_loss: 0.4902 - val_accuracy: 0.8500\n",
            "Epoch 67/200\n",
            "20/20 [==============================] - 15s 765ms/step - loss: 0.2488 - accuracy: 0.9344 - val_loss: 0.5007 - val_accuracy: 0.8433\n",
            "Epoch 68/200\n",
            "20/20 [==============================] - 15s 773ms/step - loss: 0.1868 - accuracy: 0.9463 - val_loss: 0.3747 - val_accuracy: 0.8883\n",
            "Epoch 69/200\n",
            "20/20 [==============================] - 15s 716ms/step - loss: 0.2228 - accuracy: 0.9337 - val_loss: 0.3112 - val_accuracy: 0.9017\n",
            "Epoch 70/200\n",
            "20/20 [==============================] - 16s 835ms/step - loss: 0.1988 - accuracy: 0.9444 - val_loss: 0.2502 - val_accuracy: 0.9267\n",
            "Epoch 71/200\n",
            "20/20 [==============================] - 15s 775ms/step - loss: 0.2335 - accuracy: 0.9344 - val_loss: 0.2214 - val_accuracy: 0.9383\n",
            "Epoch 72/200\n",
            "20/20 [==============================] - 13s 657ms/step - loss: 0.1709 - accuracy: 0.9525 - val_loss: 0.3342 - val_accuracy: 0.9150\n",
            "Epoch 73/200\n",
            "20/20 [==============================] - 13s 631ms/step - loss: 0.1599 - accuracy: 0.9556 - val_loss: 0.2562 - val_accuracy: 0.9250\n",
            "Epoch 74/200\n",
            "20/20 [==============================] - 13s 636ms/step - loss: 0.2115 - accuracy: 0.9381 - val_loss: 0.3760 - val_accuracy: 0.9083\n",
            "Epoch 75/200\n",
            "20/20 [==============================] - 13s 660ms/step - loss: 0.2202 - accuracy: 0.9350 - val_loss: 0.4533 - val_accuracy: 0.8667\n",
            "Epoch 76/200\n",
            "20/20 [==============================] - 12s 590ms/step - loss: 0.2478 - accuracy: 0.9244 - val_loss: 0.3335 - val_accuracy: 0.8883\n",
            "Epoch 77/200\n",
            "20/20 [==============================] - 12s 597ms/step - loss: 0.2202 - accuracy: 0.9362 - val_loss: 0.3340 - val_accuracy: 0.9083\n",
            "Epoch 78/200\n",
            "20/20 [==============================] - 11s 576ms/step - loss: 0.1681 - accuracy: 0.9556 - val_loss: 0.4054 - val_accuracy: 0.9033\n",
            "Epoch 79/200\n",
            "20/20 [==============================] - 11s 525ms/step - loss: 0.2268 - accuracy: 0.9306 - val_loss: 0.5434 - val_accuracy: 0.8383\n",
            "Epoch 80/200\n",
            "20/20 [==============================] - 10s 483ms/step - loss: 0.1928 - accuracy: 0.9481 - val_loss: 0.2800 - val_accuracy: 0.9217\n",
            "Epoch 81/200\n",
            "20/20 [==============================] - 10s 484ms/step - loss: 0.1757 - accuracy: 0.9460 - val_loss: 0.5104 - val_accuracy: 0.8917\n",
            "Epoch 82/200\n",
            "20/20 [==============================] - 12s 582ms/step - loss: 0.2091 - accuracy: 0.9454 - val_loss: 0.3618 - val_accuracy: 0.9183\n",
            "Epoch 83/200\n",
            "20/20 [==============================] - 10s 513ms/step - loss: 0.1697 - accuracy: 0.9513 - val_loss: 0.3080 - val_accuracy: 0.9067\n",
            "Epoch 84/200\n",
            "20/20 [==============================] - 11s 532ms/step - loss: 0.1584 - accuracy: 0.9581 - val_loss: 0.5684 - val_accuracy: 0.8583\n",
            "Epoch 85/200\n",
            "20/20 [==============================] - 10s 513ms/step - loss: 0.1879 - accuracy: 0.9494 - val_loss: 0.6554 - val_accuracy: 0.8350\n",
            "Epoch 86/200\n",
            "20/20 [==============================] - 11s 526ms/step - loss: 0.1781 - accuracy: 0.9456 - val_loss: 0.4891 - val_accuracy: 0.8717\n",
            "Epoch 87/200\n",
            "20/20 [==============================] - 9s 472ms/step - loss: 0.1873 - accuracy: 0.9475 - val_loss: 0.3113 - val_accuracy: 0.9000\n",
            "Epoch 88/200\n",
            "20/20 [==============================] - 10s 494ms/step - loss: 0.1740 - accuracy: 0.9409 - val_loss: 0.2949 - val_accuracy: 0.9050\n",
            "Epoch 89/200\n",
            "20/20 [==============================] - 11s 566ms/step - loss: 0.1418 - accuracy: 0.9550 - val_loss: 0.6061 - val_accuracy: 0.8500\n",
            "Epoch 90/200\n",
            "20/20 [==============================] - 10s 452ms/step - loss: 0.1576 - accuracy: 0.9488 - val_loss: 0.6673 - val_accuracy: 0.8433\n",
            "Epoch 91/200\n",
            "20/20 [==============================] - 14s 667ms/step - loss: 0.1465 - accuracy: 0.9588 - val_loss: 0.3632 - val_accuracy: 0.9117\n",
            "Epoch 92/200\n",
            "20/20 [==============================] - 17s 866ms/step - loss: 0.1601 - accuracy: 0.9563 - val_loss: 0.4369 - val_accuracy: 0.8683\n",
            "Epoch 93/200\n",
            "20/20 [==============================] - 15s 758ms/step - loss: 0.1336 - accuracy: 0.9631 - val_loss: 0.4096 - val_accuracy: 0.9050\n",
            "Epoch 94/200\n",
            "20/20 [==============================] - 15s 754ms/step - loss: 0.1465 - accuracy: 0.9575 - val_loss: 0.3214 - val_accuracy: 0.9083\n",
            "Epoch 95/200\n",
            "20/20 [==============================] - 15s 770ms/step - loss: 0.1731 - accuracy: 0.9500 - val_loss: 0.3288 - val_accuracy: 0.9117\n",
            "Epoch 96/200\n",
            "20/20 [==============================] - 15s 773ms/step - loss: 0.1638 - accuracy: 0.9506 - val_loss: 0.3509 - val_accuracy: 0.9133\n",
            "Epoch 97/200\n",
            "20/20 [==============================] - 16s 831ms/step - loss: 0.2012 - accuracy: 0.9441 - val_loss: 0.4542 - val_accuracy: 0.8983\n",
            "Epoch 98/200\n",
            "20/20 [==============================] - 12s 614ms/step - loss: 0.2382 - accuracy: 0.9231 - val_loss: 0.5715 - val_accuracy: 0.8450\n",
            "Epoch 99/200\n",
            "20/20 [==============================] - 13s 651ms/step - loss: 0.1860 - accuracy: 0.9456 - val_loss: 0.2283 - val_accuracy: 0.9367\n",
            "Epoch 100/200\n",
            "20/20 [==============================] - 12s 581ms/step - loss: 0.1185 - accuracy: 0.9614 - val_loss: 0.4000 - val_accuracy: 0.8983\n",
            "Epoch 101/200\n",
            "20/20 [==============================] - 11s 534ms/step - loss: 0.1934 - accuracy: 0.9456 - val_loss: 0.1876 - val_accuracy: 0.9250\n",
            "Epoch 102/200\n",
            "20/20 [==============================] - 11s 572ms/step - loss: 0.1641 - accuracy: 0.9563 - val_loss: 0.2720 - val_accuracy: 0.9100\n",
            "Epoch 103/200\n",
            "20/20 [==============================] - 11s 567ms/step - loss: 0.1885 - accuracy: 0.9556 - val_loss: 0.3682 - val_accuracy: 0.9250\n",
            "Epoch 104/200\n",
            "20/20 [==============================] - 10s 497ms/step - loss: 0.1494 - accuracy: 0.9600 - val_loss: 0.3499 - val_accuracy: 0.9233\n",
            "Epoch 105/200\n",
            "20/20 [==============================] - 11s 555ms/step - loss: 0.1418 - accuracy: 0.9576 - val_loss: 0.3387 - val_accuracy: 0.8983\n",
            "Epoch 106/200\n",
            "20/20 [==============================] - 11s 521ms/step - loss: 0.1631 - accuracy: 0.9581 - val_loss: 0.6239 - val_accuracy: 0.8850\n",
            "Epoch 107/200\n",
            "20/20 [==============================] - 10s 501ms/step - loss: 0.1625 - accuracy: 0.9419 - val_loss: 0.2547 - val_accuracy: 0.9350\n",
            "Epoch 108/200\n",
            "20/20 [==============================] - 10s 509ms/step - loss: 0.1679 - accuracy: 0.9538 - val_loss: 0.3143 - val_accuracy: 0.9317\n",
            "Epoch 109/200\n",
            "20/20 [==============================] - 11s 554ms/step - loss: 0.1485 - accuracy: 0.9581 - val_loss: 0.2705 - val_accuracy: 0.9083\n",
            "Epoch 110/200\n",
            "20/20 [==============================] - 10s 496ms/step - loss: 0.0907 - accuracy: 0.9737 - val_loss: 0.3701 - val_accuracy: 0.9083\n",
            "Epoch 111/200\n",
            "20/20 [==============================] - 10s 518ms/step - loss: 0.1148 - accuracy: 0.9675 - val_loss: 0.1891 - val_accuracy: 0.9433\n",
            "Epoch 112/200\n",
            "20/20 [==============================] - 11s 529ms/step - loss: 0.1405 - accuracy: 0.9594 - val_loss: 0.2050 - val_accuracy: 0.9300\n",
            "Epoch 113/200\n",
            "20/20 [==============================] - 16s 817ms/step - loss: 0.0888 - accuracy: 0.9725 - val_loss: 0.1078 - val_accuracy: 0.9617\n",
            "Epoch 114/200\n",
            "20/20 [==============================] - 15s 740ms/step - loss: 0.0972 - accuracy: 0.9737 - val_loss: 0.2127 - val_accuracy: 0.9517\n",
            "Epoch 115/200\n",
            "20/20 [==============================] - 14s 708ms/step - loss: 0.0727 - accuracy: 0.9781 - val_loss: 0.1527 - val_accuracy: 0.9617\n",
            "Epoch 116/200\n",
            "20/20 [==============================] - 14s 680ms/step - loss: 0.1135 - accuracy: 0.9688 - val_loss: 0.3021 - val_accuracy: 0.9200\n",
            "Epoch 117/200\n",
            "20/20 [==============================] - 14s 696ms/step - loss: 0.1039 - accuracy: 0.9688 - val_loss: 0.1397 - val_accuracy: 0.9650\n",
            "Epoch 118/200\n",
            "20/20 [==============================] - 16s 795ms/step - loss: 0.1113 - accuracy: 0.9675 - val_loss: 0.3161 - val_accuracy: 0.9317\n",
            "Epoch 119/200\n",
            "20/20 [==============================] - 15s 733ms/step - loss: 0.1448 - accuracy: 0.9594 - val_loss: 0.1496 - val_accuracy: 0.9417\n",
            "Epoch 120/200\n",
            "20/20 [==============================] - 16s 796ms/step - loss: 0.0822 - accuracy: 0.9762 - val_loss: 0.2063 - val_accuracy: 0.9417\n",
            "Epoch 121/200\n",
            "20/20 [==============================] - 17s 849ms/step - loss: 0.0811 - accuracy: 0.9806 - val_loss: 0.1112 - val_accuracy: 0.9717\n",
            "Epoch 122/200\n",
            "20/20 [==============================] - 14s 726ms/step - loss: 0.1039 - accuracy: 0.9656 - val_loss: 0.1248 - val_accuracy: 0.9600\n",
            "Epoch 123/200\n",
            "20/20 [==============================] - 15s 765ms/step - loss: 0.1179 - accuracy: 0.9694 - val_loss: 0.1055 - val_accuracy: 0.9717\n",
            "Epoch 124/200\n",
            "20/20 [==============================] - 14s 706ms/step - loss: 0.1084 - accuracy: 0.9706 - val_loss: 0.1635 - val_accuracy: 0.9517\n",
            "Epoch 125/200\n",
            "20/20 [==============================] - 14s 723ms/step - loss: 0.1024 - accuracy: 0.9706 - val_loss: 0.1576 - val_accuracy: 0.9633\n",
            "Epoch 126/200\n",
            "20/20 [==============================] - 16s 810ms/step - loss: 0.0741 - accuracy: 0.9762 - val_loss: 0.1840 - val_accuracy: 0.9500\n",
            "Epoch 127/200\n",
            "20/20 [==============================] - 17s 821ms/step - loss: 0.0931 - accuracy: 0.9737 - val_loss: 0.3290 - val_accuracy: 0.9267\n",
            "Epoch 128/200\n",
            "20/20 [==============================] - 16s 767ms/step - loss: 0.1354 - accuracy: 0.9663 - val_loss: 0.3611 - val_accuracy: 0.9017\n",
            "Epoch 129/200\n",
            "20/20 [==============================] - 14s 691ms/step - loss: 0.1401 - accuracy: 0.9619 - val_loss: 0.4858 - val_accuracy: 0.8567\n",
            "Epoch 130/200\n",
            "20/20 [==============================] - 14s 713ms/step - loss: 0.1040 - accuracy: 0.9669 - val_loss: 0.5380 - val_accuracy: 0.8867\n",
            "Epoch 131/200\n",
            "20/20 [==============================] - 15s 730ms/step - loss: 0.1163 - accuracy: 0.9700 - val_loss: 0.2273 - val_accuracy: 0.9350\n",
            "Epoch 132/200\n",
            "20/20 [==============================] - 13s 635ms/step - loss: 0.1095 - accuracy: 0.9731 - val_loss: 0.3377 - val_accuracy: 0.9217\n",
            "Epoch 133/200\n",
            "20/20 [==============================] - 12s 623ms/step - loss: 0.1229 - accuracy: 0.9681 - val_loss: 0.4499 - val_accuracy: 0.8950\n",
            "Epoch 134/200\n",
            "20/20 [==============================] - 12s 612ms/step - loss: 0.0871 - accuracy: 0.9719 - val_loss: 0.2300 - val_accuracy: 0.9400\n",
            "Epoch 135/200\n",
            "20/20 [==============================] - 13s 677ms/step - loss: 0.1189 - accuracy: 0.9663 - val_loss: 0.2711 - val_accuracy: 0.9350\n",
            "Epoch 136/200\n",
            "20/20 [==============================] - 11s 567ms/step - loss: 0.0989 - accuracy: 0.9700 - val_loss: 0.3737 - val_accuracy: 0.8917\n",
            "Epoch 137/200\n",
            "20/20 [==============================] - 11s 550ms/step - loss: 0.1104 - accuracy: 0.9638 - val_loss: 0.1546 - val_accuracy: 0.9517\n",
            "Epoch 138/200\n",
            "20/20 [==============================] - 11s 538ms/step - loss: 0.1087 - accuracy: 0.9675 - val_loss: 0.1343 - val_accuracy: 0.9600\n",
            "Epoch 139/200\n",
            "20/20 [==============================] - 10s 512ms/step - loss: 0.0795 - accuracy: 0.9744 - val_loss: 0.2184 - val_accuracy: 0.9517\n",
            "Epoch 140/200\n",
            "20/20 [==============================] - 11s 511ms/step - loss: 0.1010 - accuracy: 0.9744 - val_loss: 0.2844 - val_accuracy: 0.9267\n",
            "Epoch 141/200\n",
            "20/20 [==============================] - 11s 565ms/step - loss: 0.1382 - accuracy: 0.9619 - val_loss: 0.4531 - val_accuracy: 0.8800\n",
            "Epoch 142/200\n",
            "20/20 [==============================] - 10s 529ms/step - loss: 0.1595 - accuracy: 0.9594 - val_loss: 0.4049 - val_accuracy: 0.8850\n",
            "Epoch 143/200\n",
            "20/20 [==============================] - 10s 527ms/step - loss: 0.3813 - accuracy: 0.9450 - val_loss: 72.7820 - val_accuracy: 0.7067\n",
            "Epoch 144/200\n",
            "20/20 [==============================] - 10s 494ms/step - loss: 76.8434 - accuracy: 0.6006 - val_loss: 6658096.5000 - val_accuracy: 0.1350\n",
            "Epoch 145/200\n",
            "20/20 [==============================] - 10s 483ms/step - loss: 12.2689 - accuracy: 0.2406 - val_loss: 138344.7969 - val_accuracy: 0.1183\n",
            "Epoch 146/200\n",
            "20/20 [==============================] - 10s 488ms/step - loss: 3.3786 - accuracy: 0.2850 - val_loss: 6239.3970 - val_accuracy: 0.1267\n",
            "Epoch 147/200\n",
            "20/20 [==============================] - 10s 506ms/step - loss: 2.2868 - accuracy: 0.2750 - val_loss: 567.3560 - val_accuracy: 0.1533\n",
            "Epoch 148/200\n",
            "20/20 [==============================] - 10s 500ms/step - loss: 2.2764 - accuracy: 0.2906 - val_loss: 48.6084 - val_accuracy: 0.1733\n",
            "Epoch 149/200\n",
            "20/20 [==============================] - 9s 456ms/step - loss: 2.0424 - accuracy: 0.2925 - val_loss: 20.8255 - val_accuracy: 0.1700\n",
            "Epoch 150/200\n",
            "20/20 [==============================] - 9s 463ms/step - loss: 1.9546 - accuracy: 0.3019 - val_loss: 4.3464 - val_accuracy: 0.1483\n",
            "Epoch 151/200\n",
            "20/20 [==============================] - 10s 487ms/step - loss: 1.8998 - accuracy: 0.3063 - val_loss: 3.0131 - val_accuracy: 0.1850\n",
            "Epoch 152/200\n",
            "20/20 [==============================] - 10s 479ms/step - loss: 1.8952 - accuracy: 0.2800 - val_loss: 2.6846 - val_accuracy: 0.1867\n",
            "Epoch 153/200\n",
            "20/20 [==============================] - 16s 797ms/step - loss: 1.8948 - accuracy: 0.2944 - val_loss: 2.1964 - val_accuracy: 0.1567\n",
            "Epoch 154/200\n",
            "20/20 [==============================] - 14s 715ms/step - loss: 1.9031 - accuracy: 0.2950 - val_loss: 2.2704 - val_accuracy: 0.1817\n",
            "Epoch 155/200\n",
            "20/20 [==============================] - 10s 485ms/step - loss: 1.8794 - accuracy: 0.3025 - val_loss: 2.1470 - val_accuracy: 0.1683\n",
            "Epoch 156/200\n",
            "20/20 [==============================] - 10s 501ms/step - loss: 1.8523 - accuracy: 0.3252 - val_loss: 2.0695 - val_accuracy: 0.1917\n",
            "Epoch 157/200\n",
            "20/20 [==============================] - 9s 472ms/step - loss: 1.8768 - accuracy: 0.3063 - val_loss: 2.0488 - val_accuracy: 0.1550\n",
            "Epoch 158/200\n",
            "20/20 [==============================] - 9s 463ms/step - loss: 1.8568 - accuracy: 0.3117 - val_loss: 2.0696 - val_accuracy: 0.1833\n",
            "Epoch 159/200\n",
            "20/20 [==============================] - 9s 462ms/step - loss: 1.8167 - accuracy: 0.3219 - val_loss: 2.0446 - val_accuracy: 0.1950\n",
            "Epoch 160/200\n",
            "20/20 [==============================] - 9s 458ms/step - loss: 1.7958 - accuracy: 0.3350 - val_loss: 2.0258 - val_accuracy: 0.1833\n",
            "Epoch 161/200\n",
            "20/20 [==============================] - 9s 466ms/step - loss: 1.7996 - accuracy: 0.3509 - val_loss: 1.9917 - val_accuracy: 0.2050\n",
            "Epoch 162/200\n",
            "20/20 [==============================] - 9s 460ms/step - loss: 1.7524 - accuracy: 0.3625 - val_loss: 2.0696 - val_accuracy: 0.2000\n",
            "Epoch 163/200\n",
            "20/20 [==============================] - 9s 459ms/step - loss: 1.7237 - accuracy: 0.3650 - val_loss: 2.0452 - val_accuracy: 0.2017\n",
            "Epoch 164/200\n",
            "20/20 [==============================] - 9s 457ms/step - loss: 1.6771 - accuracy: 0.3956 - val_loss: 1.9817 - val_accuracy: 0.2000\n",
            "Epoch 165/200\n",
            "20/20 [==============================] - 9s 461ms/step - loss: 1.6651 - accuracy: 0.3812 - val_loss: 1.9174 - val_accuracy: 0.2367\n",
            "Epoch 166/200\n",
            "20/20 [==============================] - 17s 892ms/step - loss: 1.6242 - accuracy: 0.3969 - val_loss: 1.9090 - val_accuracy: 0.2500\n",
            "Epoch 167/200\n",
            "20/20 [==============================] - 18s 893ms/step - loss: 1.6323 - accuracy: 0.4094 - val_loss: 1.9017 - val_accuracy: 0.2400\n",
            "Epoch 168/200\n",
            "20/20 [==============================] - 10s 485ms/step - loss: 1.5917 - accuracy: 0.4125 - val_loss: 1.9209 - val_accuracy: 0.2267\n",
            "Epoch 169/200\n",
            "20/20 [==============================] - 10s 493ms/step - loss: 1.5811 - accuracy: 0.4031 - val_loss: 1.8092 - val_accuracy: 0.2583\n",
            "Epoch 170/200\n",
            "20/20 [==============================] - 10s 489ms/step - loss: 1.5279 - accuracy: 0.4406 - val_loss: 1.7357 - val_accuracy: 0.3167\n",
            "Epoch 171/200\n",
            "20/20 [==============================] - 10s 461ms/step - loss: 1.5737 - accuracy: 0.4100 - val_loss: 1.7967 - val_accuracy: 0.2867\n",
            "Epoch 172/200\n",
            "20/20 [==============================] - 10s 483ms/step - loss: 1.5262 - accuracy: 0.4344 - val_loss: 1.6943 - val_accuracy: 0.3067\n",
            "Epoch 173/200\n",
            "20/20 [==============================] - 9s 465ms/step - loss: 1.5011 - accuracy: 0.4494 - val_loss: 1.6685 - val_accuracy: 0.3300\n",
            "Epoch 174/200\n",
            "20/20 [==============================] - 9s 459ms/step - loss: 1.4619 - accuracy: 0.4481 - val_loss: 1.7287 - val_accuracy: 0.3000\n",
            "Epoch 175/200\n",
            "20/20 [==============================] - 9s 471ms/step - loss: 1.4803 - accuracy: 0.4563 - val_loss: 1.7161 - val_accuracy: 0.2883\n",
            "Epoch 176/200\n",
            "20/20 [==============================] - 9s 453ms/step - loss: 1.4598 - accuracy: 0.4512 - val_loss: 1.7794 - val_accuracy: 0.3000\n",
            "Epoch 177/200\n",
            "20/20 [==============================] - 9s 459ms/step - loss: 1.4607 - accuracy: 0.4557 - val_loss: 1.6749 - val_accuracy: 0.3083\n",
            "Epoch 178/200\n",
            "20/20 [==============================] - 9s 456ms/step - loss: 1.4277 - accuracy: 0.4775 - val_loss: 1.7055 - val_accuracy: 0.3217\n",
            "Epoch 179/200\n",
            "20/20 [==============================] - 17s 885ms/step - loss: 1.4671 - accuracy: 0.4441 - val_loss: 1.6589 - val_accuracy: 0.3200\n",
            "Epoch 180/200\n",
            "20/20 [==============================] - 15s 768ms/step - loss: 1.4228 - accuracy: 0.4475 - val_loss: 1.5871 - val_accuracy: 0.3500\n",
            "Epoch 181/200\n",
            "20/20 [==============================] - 9s 474ms/step - loss: 1.4557 - accuracy: 0.4538 - val_loss: 1.5507 - val_accuracy: 0.3617\n",
            "Epoch 182/200\n",
            "20/20 [==============================] - 9s 469ms/step - loss: 1.3648 - accuracy: 0.4919 - val_loss: 1.6998 - val_accuracy: 0.3183\n",
            "Epoch 183/200\n",
            "20/20 [==============================] - 9s 456ms/step - loss: 1.3720 - accuracy: 0.4750 - val_loss: 1.5200 - val_accuracy: 0.3833\n",
            "Epoch 184/200\n",
            "20/20 [==============================] - 9s 455ms/step - loss: 1.4001 - accuracy: 0.4787 - val_loss: 1.5055 - val_accuracy: 0.3767\n",
            "Epoch 185/200\n",
            "20/20 [==============================] - 9s 452ms/step - loss: 1.3170 - accuracy: 0.5038 - val_loss: 1.5393 - val_accuracy: 0.3750\n",
            "Epoch 186/200\n",
            "20/20 [==============================] - 9s 450ms/step - loss: 1.3636 - accuracy: 0.4950 - val_loss: 1.5070 - val_accuracy: 0.3400\n",
            "Epoch 187/200\n",
            "20/20 [==============================] - 9s 453ms/step - loss: 1.3171 - accuracy: 0.4981 - val_loss: 1.4582 - val_accuracy: 0.4183\n",
            "Epoch 188/200\n",
            "20/20 [==============================] - 9s 453ms/step - loss: 1.3580 - accuracy: 0.4994 - val_loss: 1.5759 - val_accuracy: 0.3650\n",
            "Epoch 189/200\n",
            "20/20 [==============================] - 9s 448ms/step - loss: 1.3404 - accuracy: 0.5056 - val_loss: 1.5176 - val_accuracy: 0.3717\n",
            "Epoch 190/200\n",
            "20/20 [==============================] - 10s 517ms/step - loss: 1.2960 - accuracy: 0.5186 - val_loss: 1.4244 - val_accuracy: 0.4533\n",
            "Epoch 191/200\n",
            "20/20 [==============================] - 10s 503ms/step - loss: 1.2829 - accuracy: 0.5144 - val_loss: 1.4141 - val_accuracy: 0.4100\n",
            "Epoch 192/200\n",
            "20/20 [==============================] - 9s 459ms/step - loss: 1.2895 - accuracy: 0.5175 - val_loss: 1.4458 - val_accuracy: 0.3817\n",
            "Epoch 193/200\n",
            "20/20 [==============================] - 9s 457ms/step - loss: 1.3341 - accuracy: 0.5106 - val_loss: 1.5012 - val_accuracy: 0.4000\n",
            "Epoch 194/200\n",
            "20/20 [==============================] - 9s 459ms/step - loss: 1.3012 - accuracy: 0.5075 - val_loss: 1.3591 - val_accuracy: 0.4350\n",
            "Epoch 195/200\n",
            "20/20 [==============================] - 9s 451ms/step - loss: 1.2446 - accuracy: 0.5306 - val_loss: 1.3490 - val_accuracy: 0.4267\n",
            "Epoch 196/200\n",
            "20/20 [==============================] - 9s 451ms/step - loss: 1.2515 - accuracy: 0.5300 - val_loss: 1.3781 - val_accuracy: 0.4450\n",
            "Epoch 197/200\n",
            "20/20 [==============================] - 9s 449ms/step - loss: 1.2436 - accuracy: 0.5400 - val_loss: 1.3178 - val_accuracy: 0.4617\n",
            "Epoch 198/200\n",
            "20/20 [==============================] - 9s 472ms/step - loss: 1.2709 - accuracy: 0.5175 - val_loss: 1.5129 - val_accuracy: 0.3983\n",
            "Epoch 199/200\n",
            "20/20 [==============================] - 9s 462ms/step - loss: 1.1966 - accuracy: 0.5540 - val_loss: 1.3929 - val_accuracy: 0.4350\n",
            "Epoch 200/200\n",
            "20/20 [==============================] - 9s 453ms/step - loss: 1.1968 - accuracy: 0.5556 - val_loss: 1.3199 - val_accuracy: 0.4433\n",
            "dict_keys(['loss', 'accuracy', 'val_loss', 'val_accuracy'])\n"
          ]
        }
      ],
      "source": [
        "(BATCH_SIZE_TRAINING, len(train_generator), BATCH_SIZE_VALIDATION, len(validation_generator))\n",
        "\n",
        "\n",
        "fit_history = model.fit_generator(\n",
        "        train_generator,\n",
        "        steps_per_epoch=STEPS_PER_EPOCH_TRAINING,\n",
        "        callbacks=callbacks,\n",
        "        epochs = NUM_EPOCHS,\n",
        "        validation_data=validation_generator,\n",
        "        validation_steps=STEPS_PER_EPOCH_VALIDATION\n",
        ")\n",
        "\n",
        "model.save('/content/drive/MyDrive/shirin_age_model/model/AgeModel.hdf5')\n",
        "#model.save('/content/drive/MyDrive/shirin_age_model/model/AgeModel.h5')\n",
        "\n",
        "\n",
        "print(fit_history.history.keys())"
      ]
    },
    {
      "cell_type": "code",
      "source": [
        "from keras.models import load_model\n",
        "model1=load_model('/content/drive/MyDrive/shirin_age_model/model_new_age.hdf5')\n",
        "print(model1)"
      ],
      "metadata": {
        "id": "rEAFx_JlXkdA",
        "colab": {
          "base_uri": "https://localhost:8080/"
        },
        "outputId": "31ccdc13-5c57-4075-a0c4-38d697057477"
      },
      "execution_count": null,
      "outputs": [
        {
          "output_type": "stream",
          "name": "stdout",
          "text": [
            "<keras.engine.sequential.Sequential object at 0x7fde0962d290>\n"
          ]
        }
      ]
    },
    {
      "cell_type": "code",
      "execution_count": null,
      "metadata": {
        "id": "UgF6ysuBytFd",
        "outputId": "6c3ab34c-876b-441c-deaa-c46812a9582d",
        "colab": {
          "base_uri": "https://localhost:8080/",
          "height": 267
        }
      },
      "outputs": [
        {
          "output_type": "display_data",
          "data": {
            "text/plain": [
              "<Figure size 1080x576 with 2 Axes>"
            ],
            "image/png": "[encoded data removed]"
          },
          "metadata": {
            "needs_background": "light"
          }
        }
      ],
      "source": [
        "plt.figure(1, figsize = (15,8)) \n",
        "    \n",
        "plt.subplot(221)  \n",
        "plt.plot(fit_history.history['accuracy'])  \n",
        "plt.plot(fit_history.history['val_accuracy'])  \n",
        "plt.title('model accuracy')  \n",
        "plt.ylabel('accuracy')  \n",
        "plt.xlabel('epoch')  \n",
        "plt.legend(['train', 'valid']) \n",
        "    \n",
        "plt.subplot(222)  \n",
        "plt.plot(fit_history.history['loss'])  \n",
        "plt.plot(fit_history.history['val_loss'])  \n",
        "plt.title('model loss')  \n",
        "plt.ylabel('loss')  \n",
        "plt.xlabel('epoch')  \n",
        "plt.legend(['train', 'valid']) \n",
        "\n",
        "plt.savefig(\"/content/drive/MyDrive/shirin_age_model/model/acc.png\")\n",
        "#plt.show()\n",
        "\n"
      ]
    },
    {
      "cell_type": "code",
      "execution_count": null,
      "metadata": {
        "id": "GS_egSLIytFe",
        "outputId": "52aaea9e-01a3-4b62-b255-6fdbc9d3217d",
        "colab": {
          "base_uri": "https://localhost:8080/"
        }
      },
      "outputs": [
        {
          "metadata": {
            "tags": null
          },
          "name": "stdout",
          "output_type": "stream",
          "text": [
            "Found 2400 images belonging to 8 classes.\n"
          ]
        },
        {
          "metadata": {
            "tags": null
          },
          "name": "stderr",
          "output_type": "stream",
          "text": [
            "/usr/local/lib/python3.7/dist-packages/ipykernel_launcher.py:12: UserWarning: `Model.predict_generator` is deprecated and will be removed in a future version. Please use `Model.predict`, which supports generators.\n",
            "  if sys.path[0] == '':\n"
          ]
        },
        {
          "output_type": "stream",
          "name": "stdout",
          "text": [
            "2400/2400 [==============================] - 506s 210ms/step\n",
            "[0 0 0 ... 7 7 7]\n"
          ]
        }
      ],
      "source": [
        "test_generator = data_generator.flow_from_directory(\n",
        "    directory = '/content/drive/MyDrive/shirin_age_model/dataset/valid',\n",
        "    target_size = (image_size, image_size),\n",
        "    batch_size = BATCH_SIZE_TESTING,\n",
        "    class_mode = None,\n",
        "    shuffle = False,\n",
        "    seed = 123\n",
        ")\n",
        "\n",
        "test_generator.reset()\n",
        "\n",
        "pred = model1.predict_generator(test_generator, steps = len(test_generator), verbose = 1)\n",
        "\n",
        "predicted_class_indices = np.argmax(pred, axis = 1)\n",
        "\n",
        "print(predicted_class_indices)"
      ]
    },
    {
      "cell_type": "code",
      "source": [
        "#validation_generator.reset()\n",
        "pred1 = model1.predict_generator(validation_generator, steps = len(validation_generator), verbose = 1)\n",
        "test_class_indices1 = np.argmax(pred1, axis = 1)\n",
        "#a=test_generator.class_indices.values()\n",
        "#b=list(a)\n",
        "print(test_class_indices1)"
      ],
      "metadata": {
        "colab": {
          "base_uri": "https://localhost:8080/"
        },
        "id": "IGNQ5-JfQ5En",
        "outputId": "b027fa0a-0994-45fe-ba9c-c0910f3cd34b"
      },
      "execution_count": null,
      "outputs": [
        {
          "output_type": "stream",
          "name": "stderr",
          "text": [
            "/usr/local/lib/python3.7/dist-packages/ipykernel_launcher.py:2: UserWarning: `Model.predict_generator` is deprecated and will be removed in a future version. Please use `Model.predict`, which supports generators.\n",
            "  \n"
          ]
        },
        {
          "output_type": "stream",
          "name": "stdout",
          "text": [
            "80/80 [==============================] - 79s 978ms/step\n",
            "[1 1 2 ... 1 5 6]\n"
          ]
        }
      ]
    },
    {
      "cell_type": "code",
      "execution_count": null,
      "metadata": {
        "id": "z28bHzptytFg",
        "colab": {
          "base_uri": "https://localhost:8080/"
        },
        "outputId": "738c6b83-1a4b-4077-99d7-d1a77bb610d3"
      },
      "outputs": [
        {
          "output_type": "stream",
          "name": "stdout",
          "text": [
            "[[41 48 54 52 10 48 22 41]\n",
            " [58 37 49 55 16 51 21 35]\n",
            " [49 64 87 70 17 77 35 59]\n",
            " [42 62 73 52 14 60 36 50]\n",
            " [10  8 21 19  5 14 11  9]\n",
            " [54 39 70 59 22 42 25 38]\n",
            " [21 20 37 27  3 20  7 37]\n",
            " [41 44 67 55 10 37 15 28]]\n",
            "              precision    recall  f1-score   support\n",
            "\n",
            "           0       0.13      0.13      0.13       316\n",
            "           1       0.11      0.11      0.11       322\n",
            "           2       0.19      0.19      0.19       458\n",
            "           3       0.13      0.13      0.13       389\n",
            "           4       0.05      0.05      0.05        97\n",
            "           5       0.12      0.12      0.12       349\n",
            "           6       0.04      0.04      0.04       172\n",
            "           7       0.09      0.09      0.09       297\n",
            "\n",
            "    accuracy                           0.12      2400\n",
            "   macro avg       0.11      0.11      0.11      2400\n",
            "weighted avg       0.12      0.12      0.12      2400\n",
            "\n"
          ]
        }
      ],
      "source": [
        "from sklearn.metrics import confusion_matrix, classification_report\n",
        "conf_mat = confusion_matrix(test_class_indices1, predicted_class_indices)\n",
        "clas_rep=classification_report(test_class_indices1, predicted_class_indices)\n",
        "print(conf_mat)\n",
        "print(clas_rep)"
      ]
    },
    {
      "cell_type": "code",
      "execution_count": null,
      "metadata": {
        "id": "1TO55OmTytFh"
      },
      "outputs": [],
      "source": [
        "#print (\"Loss = \" + str(pred[0]))\n",
        "#print (\"Test Accuracy = \" + str(pred[1]))"
      ]
    },
    {
      "cell_type": "code",
      "source": [
        "def plot_confusion_matrix(cm, classes, normalize=False, title='Confusion Matrix', export_as='confusion_matrix', cmap=plt.cm.Blues):\n",
        "    \"\"\"\n",
        "    This function prints and plots the confusion matrix.\n",
        "    Normalization can be applied by setting `normalize=True`.\n",
        "    \"\"\"\n",
        "    if normalize:\n",
        "        cm = cm.astype('float') / cm.sum(axis=1)[:, np.newaxis]\n",
        "        print(\"Normalized confusion matrix\")\n",
        "    else:\n",
        "        print('Confusion matrix, without normalization')\n",
        "\n",
        "    # print(cm)\n",
        "\n",
        "    plt.imshow(cm, interpolation='nearest', cmap=cmap)\n",
        "    plt.title(title, fontsize=16)\n",
        "    plt.colorbar()\n",
        "    tick_marks = np.arange(len(classes))\n",
        "    plt.xticks(tick_marks, classes, rotation=45)\n",
        "    plt.yticks(tick_marks, classes)\n",
        "    fmt = '.2f' if normalize else 'd'\n",
        "    thresh = cm.max() / 2.\n",
        "    for i, j in itertools.product(range(cm.shape[0]), range(cm.shape[1])):\n",
        "        plt.text(j, i, format(cm[i, j], fmt), horizontalalignment=\"center\", color=\"white\" if cm[i, j] > thresh else \"black\")\n",
        "\n",
        "    plt.tight_layout()\n",
        "    plt.ylabel('True labels', fontsize=14)\n",
        "    plt.xlabel('Predicted labels', fontsize=14)\n",
        "\n",
        "    # Exporting plot image in PNG format.\n",
        "    plt.savefig(f'/content/drive/MyDrive/shirin_age_model/model/{export_as}.png', bbox_inches='tight');"
      ],
      "metadata": {
        "id": "LIo5EZ6TUZDY"
      },
      "execution_count": null,
      "outputs": []
    },
    {
      "cell_type": "code",
      "source": [
        "import itertools    \n",
        "#plot_confusion_matrix()\n",
        "cm_plot_labels = ['0-2', '4-6', '8-12', '15-20', '25-32', '38-43','48-53', '60-100']\n",
        "plt.figure(figsize=(16,8))\n",
        "plot_confusion_matrix(conf_mat, cm_plot_labels, normalize=False,\n",
        "                      title=\"Confusion Matrix based on predictions from ResNet50 model\",\n",
        "                      export_as=\"final_resnet50_conf_mat_norm\"\n",
        "                     )\n",
        "\n",
        "plt.show()"
      ],
      "metadata": {
        "colab": {
          "base_uri": "https://localhost:8080/",
          "height": 620
        },
        "id": "TREFhnRLUeXS",
        "outputId": "d5e6b829-2457-439e-a227-071d0029935b"
      },
      "execution_count": null,
      "outputs": [
        {
          "output_type": "stream",
          "name": "stdout",
          "text": [
            "Confusion matrix, without normalization\n"
          ]
        },
        {
          "output_type": "display_data",
          "data": {
            "text/plain": [
              "<Figure size 1152x576 with 2 Axes>"
            ],
            "image/png": "[encoded data removed]"
          },
          "metadata": {
            "needs_background": "light"
          }
        }
      ]
    },
    {
      "cell_type": "code",
      "execution_count": null,
      "metadata": {
        "id": "8S8eUt-AytFh",
        "outputId": "6b7b53d7-117c-43a1-b023-88dfbe8aa0c6"
      },
      "outputs": [
        {
          "name": "stdout",
          "output_type": "stream",
          "text": [
            "{'age_0_3': 0, 'age_15_20': 1, 'age_25_32': 2, 'age_34_48': 3, 'age_49_58': 4, 'age_4_6': 5, 'age_60_100': 6, 'age_8_12': 7}\n"
          ]
        }
      ],
      "source": [
        "print(test_generator.class_indices)"
      ]
    },
    {
      "cell_type": "code",
      "execution_count": null,
      "metadata": {
        "id": "BMWXLlBvytFi",
        "colab": {
          "base_uri": "https://localhost:8080/"
        },
        "outputId": "99096ecc-b56b-4a85-8e6e-36d3a9401952"
      },
      "outputs": [
        {
          "output_type": "stream",
          "name": "stdout",
          "text": [
            "80/80 [==============================] - 90s 1s/step - loss: 0.2764 - accuracy: 0.9329\n"
          ]
        }
      ],
      "source": [
        "a=model1.evaluate(validation_generator)"
      ]
    },
    {
      "cell_type": "code",
      "execution_count": null,
      "metadata": {
        "id": "tgoRTPG6ytFi",
        "colab": {
          "base_uri": "https://localhost:8080/",
          "height": 183
        },
        "outputId": "7882368c-f4ca-442d-9687-90565ec13089"
      },
      "outputs": [
        {
          "output_type": "error",
          "ename": "AttributeError",
          "evalue": "ignored",
          "traceback": [
            "\u001b[0;31m---------------------------------------------------------------------------\u001b[0m",
            "\u001b[0;31mAttributeError\u001b[0m                            Traceback (most recent call last)",
            "\u001b[0;32m<ipython-input-18-76072d506d4c>\u001b[0m in \u001b[0;36m<module>\u001b[0;34m()\u001b[0m\n\u001b[1;32m      1\u001b[0m \u001b[0;31m#print(model.predict('girl.jpg'))\u001b[0m\u001b[0;34m\u001b[0m\u001b[0;34m\u001b[0m\u001b[0;34m\u001b[0m\u001b[0m\n\u001b[0;32m----> 2\u001b[0;31m \u001b[0mprint\u001b[0m\u001b[0;34m(\u001b[0m\u001b[0mvalidation_generator\u001b[0m\u001b[0;34m.\u001b[0m\u001b[0mindices\u001b[0m\u001b[0;34m)\u001b[0m\u001b[0;34m\u001b[0m\u001b[0;34m\u001b[0m\u001b[0m\n\u001b[0m",
            "\u001b[0;31mAttributeError\u001b[0m: 'DirectoryIterator' object has no attribute 'indices'"
          ]
        }
      ],
      "source": [
        "#print(model.predict('girl.jpg'))\n",
        "print(validation_generator.indices)"
      ]
    },
    {
      "cell_type": "code",
      "execution_count": null,
      "metadata": {
        "id": "aiGp8e82ytFj"
      },
      "outputs": [],
      "source": [
        "if os.path.exists('{}<.meta'.format(\"model_resnet50.hdf5\")):\n",
        "        model.load(\"model_resnet50.hdf5\")\n",
        "        print('model loaded!')"
      ]
    },
    {
      "cell_type": "code",
      "execution_count": null,
      "metadata": {
        "id": "EAXkH3MvytFj",
        "colab": {
          "base_uri": "https://localhost:8080/",
          "height": 35
        },
        "outputId": "84bc7e04-8140-450f-f978-fdd83847796f"
      },
      "outputs": [
        {
          "output_type": "execute_result",
          "data": {
            "text/plain": [
              "'/device:GPU:0'"
            ],
            "application/vnd.google.colaboratory.intrinsic+json": {
              "type": "string"
            }
          },
          "metadata": {},
          "execution_count": 12
        }
      ],
      "source": [
        "import tensorflow as tf\n",
        "tf.test.gpu_device_name()"
      ]
    }
  ],
  "metadata": {
    "kernelspec": {
      "display_name": "Python 3",
      "language": "python",
      "name": "python3"
    },
    "language_info": {
      "codemirror_mode": {
        "name": "ipython",
        "version": 3
      },
      "file_extension": ".py",
      "mimetype": "text/x-python",
      "name": "python",
      "nbconvert_exporter": "python",
      "pygments_lexer": "ipython3",
      "version": "3.6.5"
    },
    "colab": {
      "name": "age_model.ipynb",
      "provenance": [],
      "collapsed_sections": [],
      "include_colab_link": true
    },
    "accelerator": "GPU",
    "gpuClass": "standard"
  },
  "nbformat": 4,
  "nbformat_minor": 0
}
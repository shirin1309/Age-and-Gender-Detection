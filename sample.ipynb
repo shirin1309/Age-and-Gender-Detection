{
 "cells": [
  {
   "cell_type": "code",
   "execution_count": 2,
   "metadata": {},
   "outputs": [],
   "source": [
    "import numpy as np\n",
    "import pandas as pd\n",
    "import matplotlib.pyplot as plt\n",
    "import cv2\n",
    "import os\n",
    "\n",
    "NUM_CLASSES = 8\n",
    "\n",
    "CHANNELS = 3\n",
    "\n",
    "IMAGE_RESIZE = 50\n",
    "\n",
    "NUM_EPOCHS = 200\n",
    "\n",
    "STEPS_PER_EPOCH_TRAINING = 10\n",
    "STEPS_PER_EPOCH_VALIDATION = 10\n",
    "\n",
    "BATCH_SIZE_TRAINING = 80\n",
    "BATCH_SIZE_VALIDATION = 30\n",
    "\n",
    "BATCH_SIZE_TESTING = 1\n",
    "\n"
   ]
  },
  {
   "cell_type": "code",
   "execution_count": 3,
   "metadata": {},
   "outputs": [
    {
     "name": "stderr",
     "output_type": "stream",
     "text": [
      "C:\\ProgramData\\Anaconda3\\lib\\site-packages\\tensorflow\\python\\framework\\dtypes.py:526: FutureWarning: Passing (type, 1) or '1type' as a synonym of type is deprecated; in a future version of numpy, it will be understood as (type, (1,)) / '(1,)type'.\n",
      "  _np_qint8 = np.dtype([(\"qint8\", np.int8, 1)])\n",
      "C:\\ProgramData\\Anaconda3\\lib\\site-packages\\tensorflow\\python\\framework\\dtypes.py:527: FutureWarning: Passing (type, 1) or '1type' as a synonym of type is deprecated; in a future version of numpy, it will be understood as (type, (1,)) / '(1,)type'.\n",
      "  _np_quint8 = np.dtype([(\"quint8\", np.uint8, 1)])\n",
      "C:\\ProgramData\\Anaconda3\\lib\\site-packages\\tensorflow\\python\\framework\\dtypes.py:528: FutureWarning: Passing (type, 1) or '1type' as a synonym of type is deprecated; in a future version of numpy, it will be understood as (type, (1,)) / '(1,)type'.\n",
      "  _np_qint16 = np.dtype([(\"qint16\", np.int16, 1)])\n",
      "C:\\ProgramData\\Anaconda3\\lib\\site-packages\\tensorflow\\python\\framework\\dtypes.py:529: FutureWarning: Passing (type, 1) or '1type' as a synonym of type is deprecated; in a future version of numpy, it will be understood as (type, (1,)) / '(1,)type'.\n",
      "  _np_quint16 = np.dtype([(\"quint16\", np.uint16, 1)])\n",
      "C:\\ProgramData\\Anaconda3\\lib\\site-packages\\tensorflow\\python\\framework\\dtypes.py:530: FutureWarning: Passing (type, 1) or '1type' as a synonym of type is deprecated; in a future version of numpy, it will be understood as (type, (1,)) / '(1,)type'.\n",
      "  _np_qint32 = np.dtype([(\"qint32\", np.int32, 1)])\n",
      "C:\\ProgramData\\Anaconda3\\lib\\site-packages\\tensorflow\\python\\framework\\dtypes.py:535: FutureWarning: Passing (type, 1) or '1type' as a synonym of type is deprecated; in a future version of numpy, it will be understood as (type, (1,)) / '(1,)type'.\n",
      "  np_resource = np.dtype([(\"resource\", np.ubyte, 1)])\n",
      "Using TensorFlow backend.\n"
     ]
    },
    {
     "name": "stdout",
     "output_type": "stream",
     "text": [
      "Found 9348 images belonging to 8 classes.\n",
      "Found 877 images belonging to 8 classes.\n"
     ]
    }
   ],
   "source": [
    "from tensorflow.python.keras.applications import ResNet50\n",
    "from tensorflow.python.keras.models import Sequential\n",
    "from tensorflow.python.keras.layers import Dense\n",
    "from keras.applications.resnet50 import ResNet50\n",
    "from keras.models import Model\n",
    "import keras\n",
    "from keras.layers import Conv2D, MaxPooling2D, Flatten, Dense, Dropout, InputLayer, GlobalAveragePooling2D, LeakyReLU\n",
    "from keras.models import Sequential\n",
    "from keras import optimizers\n",
    "\n",
    "\n",
    "\n",
    "\n",
    "from keras.applications.resnet50 import preprocess_input\n",
    "from keras.preprocessing.image import ImageDataGenerator\n",
    "\n",
    "image_size = IMAGE_RESIZE\n",
    "\n",
    "data_generator = ImageDataGenerator(preprocessing_function=preprocess_input)\n",
    "\n",
    "train_generator = data_generator.flow_from_directory(\n",
    "        'dataset/train',\n",
    "        target_size=(image_size, image_size),\n",
    "        batch_size=BATCH_SIZE_TRAINING,\n",
    "        class_mode='categorical')\n",
    "\n",
    "validation_generator = data_generator.flow_from_directory(\n",
    "        'dataset/valid',\n",
    "        target_size=(image_size, image_size),\n",
    "        batch_size=BATCH_SIZE_VALIDATION,\n",
    "        class_mode='categorical') \n",
    "\n"
   ]
  },
  {
   "cell_type": "code",
   "execution_count": 7,
   "metadata": {},
   "outputs": [
    {
     "name": "stderr",
     "output_type": "stream",
     "text": [
      "C:\\ProgramData\\Anaconda3\\lib\\site-packages\\keras_applications\\resnet50.py:265: UserWarning: The output shape of `ResNet50(include_top=False)` has been changed since Keras 2.2.0.\n",
      "  warnings.warn('The output shape of `ResNet50(include_top=False)` '\n"
     ]
    },
    {
     "name": "stdout",
     "output_type": "stream",
     "text": [
      "Tensor(\"global_average_pooling2d_1/Mean:0\", shape=(?, 2048), dtype=float32)\n"
     ]
    }
   ],
   "source": [
    "model = ResNet50(include_top=False)\n",
    "x = model.output\n",
    "x = GlobalAveragePooling2D()(x)\n",
    "print(x)"
   ]
  },
  {
   "cell_type": "code",
   "execution_count": null,
   "metadata": {},
   "outputs": [],
   "source": []
  },
  {
   "cell_type": "code",
   "execution_count": 24,
   "metadata": {},
   "outputs": [
    {
     "name": "stdout",
     "output_type": "stream",
     "text": [
      "Found 877 images belonging to 8 classes.\n",
      "877/877 [==============================] - 61s 70ms/step\n",
      "[0 5 5 0 0 0 0 5 0 0 0 0 0 0 0 0 5 0 0 0 0 0 0 0 0 5 0 0 0 0 5 0 2 7 0 0 5\n",
      " 0 0 0 0 0 0 0 0 2 0 0 5 5 0 0 0 0 0 0 0 0 0 0 0 5 0 0 0 0 0 5 5 0 0 0 0 0\n",
      " 0 0 0 0 0 0 0 0 0 0 0 0 0 0 5 5 0 0 7 0 0 0 0 0 0 0 0 0 0 0 0 0 0 2 0 0 0\n",
      " 0 0 0 0 0 0 0 0 0 2 2 0 5 0 0 0 0 5 0 0 0 2 0 0 0 0 0 0 0 0 0 2 0 0 0 0 0\n",
      " 0 0 0 2 0 0 5 0 0 0 0 0 2 0 0 0 0 0 0 0 0 0 0 2 2 0 0 2 2 2 2 2 2 2 2 2 2\n",
      " 5 2 2 2 2 2 2 2 2 2 2 2 2 0 0 0 2 2 2 7 2 2 2 2 2 2 2 2 2 7 7 2 2 2 2 5 2\n",
      " 2 2 2 2 2 5 2 5 2 2 2 2 2 2 2 2 2 2 2 2 0 0 0 0 2 2 0 2 2 2 5 2 2 2 5 0 2\n",
      " 2 7 2 2 2 2 2 2 2 2 2 2 2 2 2 2 2 2 2 2 2 2 2 2 2 2 2 2 2 2 2 2 2 2 0 2 2\n",
      " 2 0 2 2 2 2 2 2 2 0 2 0 2 2 2 2 2 2 2 2 2 2 2 2 2 2 2 2 2 0 2 5 2 2 2 2 2\n",
      " 2 2 2 2 2 2 2 2 2 2 2 2 2 2 7 2 2 2 2 2 2 2 2 2 2 2 2 2 2 7 2 2 2 0 2 2 2\n",
      " 2 2 2 2 2 2 2 2 5 2 2 2 2 2 2 2 7 2 2 2 5 5 5 2 2 7 2 2 2 2 5 7 7 0 0 2 2\n",
      " 2 2 2 2 2 7 2 2 0 2 2 2 2 2 2 2 2 2 2 2 2 2 2 2 2 2 2 2 2 2 2 2 2 2 2 2 2\n",
      " 2 2 2 2 2 2 2 2 2 2 2 2 2 2 2 2 2 2 2 0 2 2 2 2 2 2 2 2 2 2 2 2 2 2 5 5 2\n",
      " 0 0 5 5 2 2 2 2 5 2 0 2 2 2 2 2 2 2 2 0 2 2 2 2 2 2 2 5 2 2 2 2 2 2 2 0 2\n",
      " 2 2 2 2 2 2 2 0 2 2 2 0 2 2 2 0 0 2 0 2 2 2 0 2 2 2 2 2 0 2 2 2 0 2 2 2 2\n",
      " 2 2 2 2 2 2 2 2 2 2 2 0 2 0 0 5 2 2 2 0 0 2 5 2 2 2 2 2 2 2 2 2 2 2 2 2 2\n",
      " 2 2 2 2 2 2 2 2 2 2 2 2 2 2 2 0 2 2 2 2 0 2 0 2 2 2 5 2 2 2 5 2 0 2 2 2 2\n",
      " 2 2 2 2 2 2 0 0 5 0 5 0 5 0 0 2 0 0 0 0 0 0 0 0 5 2 0 0 0 5 0 0 5 5 0 0 2\n",
      " 0 2 0 5 5 7 5 0 5 5 5 5 2 5 2 0 0 2 7 5 2 5 0 0 0 0 7 5 7 5 0 0 5 5 5 5 5\n",
      " 5 5 0 0 0 0 2 5 5 0 7 5 5 2 7 5 5 0 2 5 0 0 5 0 0 5 5 5 5 5 0 0 5 0 0 2 2\n",
      " 5 5 7 5 7 7 5 0 5 5 5 0 5 0 5 2 2 2 2 2 2 2 0 2 2 5 2 2 2 2 2 0 2 2 2 2 2\n",
      " 2 5 2 2 2 2 2 2 0 5 2 2 0 0 2 5 5 5 2 0 0 2 0 5 2 2 5 5 0 5 5 5 5 2 7 2 2\n",
      " 0 2 2 2 2 7 2 2 2 2 5 0 5 0 5 0 5 5 5 5 2 7 5 0 0 2 5 5 7 7 0 0 0 5 2 5 5\n",
      " 2 2 2 0 5 2 2 5 7 0 0 5 5 2 5 5 5 0 5 2 5 2 5 0 5 2]\n"
     ]
    }
   ],
   "source": [
    "from keras.models import load_model\n",
    "test_generator = data_generator.flow_from_directory(\n",
    "    directory = 'dataset/valid',\n",
    "    target_size = (image_size, image_size),\n",
    "    batch_size = BATCH_SIZE_TESTING,\n",
    "    class_mode = None,\n",
    "    shuffle = False,\n",
    "    seed = 123\n",
    ")\n",
    "\n",
    "test_generator.reset()\n",
    "model=load_model(\"model_resnet50.hdf5\")\n",
    "pred = model.predict_generator(test_generator, steps = len(test_generator), verbose = 1)\n",
    "\n",
    "predicted_class_indices = np.argmax(pred, axis = 1)\n",
    "\n",
    "print(predicted_class_indices)"
   ]
  },
  {
   "cell_type": "code",
   "execution_count": 40,
   "metadata": {},
   "outputs": [
    {
     "name": "stdout",
     "output_type": "stream",
     "text": [
      "30/30 [==============================] - 11s 383ms/step\n",
      "[2 5 0 0 2 2 0 0 0 2 5 2 0 2 5 0 0 0 0 2 2 5 0 5 0 2 2 0 0 0 2 2 2 5 2 2 2\n",
      " 2 2 5 0 0 5 2 5 0 2 5 2 2 5 2 2 2 2 2 5 2 2 0 2 2 2 2 5 2 0 2 0 2 2 0 0 0\n",
      " 2 7 2 2 2 0 2 0 0 0 2 0 0 2 2 2 2 5 2 0 2 0 0 0 2 0 5 2 2 0 5 2 2 0 2 5 2\n",
      " 2 5 5 0 2 5 0 0 5 2 0 2 2 0 2 2 2 2 2 0 2 5 0 7 5 2 7 2 5 0 2 2 7 2 2 2 7\n",
      " 2 5 2 0 2 2 2 2 2 2 5 2 2 2 2 2 2 7 2 0 2 2 2 2 5 0 2 0 2 0 0 2 5 2 0 2 2\n",
      " 2 2 0 2 0 5 0 2 2 2 2 2 2 0 2 5 5 7 2 2 2 2 0 0 5 0 0 2 2 5 0 2 2 7 2 0 2\n",
      " 0 2 2 2 0 2 0 5 0 2 2 0 5 0 5 2 2 0 0 2 0 0 2 2 2 5 2 2 0 2 2 5 0 5 5 0 2\n",
      " 2 2 0 2 5 0 0 2 2 0 2 0 5 0 0 2 2 7 5 2 2 2 0 0 2 2 2 7 2 2 2 2 2 5 2 0 2\n",
      " 0 0 2 2 5 0 0 0 2 2 0 2 5 0 0 0 2 2 2 2 2 0 0 2 2 2 5 2 5 0 0 2 0 2 0 2 0\n",
      " 2 0 0 0 0 0 0 2 0 2 0 2 0 0 0 2 2 0 2 2 0 2 0 7 2 0 5 2 2 2 5 2 2 0 2 2 0\n",
      " 0 5 5 5 2 5 2 2 5 7 2 0 2 5 2 0 2 2 2 0 2 2 2 2 5 5 2 2 0 2 2 2 0 2 2 0 2\n",
      " 2 2 2 2 2 2 2 2 5 2 2 0 5 2 2 5 0 0 0 0 2 2 0 2 5 0 2 0 0 2 2 5 0 2 2 2 2\n",
      " 2 0 2 0 0 0 2 2 5 0 2 0 7 2 0 2 2 0 2 2 0 5 2 2 2 0 5 2 5 0 7 5 0 0 0 2 0\n",
      " 2 2 0 2 5 2 2 0 2 2 0 2 2 0 5 0 2 2 2 0 2 2 0 2 5 2 2 0 0 0 0 2 0 2 5 0 2\n",
      " 2 5 2 0 2 2 2 2 0 0 2 5 2 2 2 2 2 0 5 0 0 2 0 2 0 2 2 2 5 2 0 2 0 2 5 7 2\n",
      " 5 5 2 2 7 0 2 0 0 2 2 2 2 0 0 0 2 5 0 0 2 5 0 0 2 2 7 2 7 2 0 0 0 5 7 2 2\n",
      " 2 7 2 5 2 2 0 2 0 2 2 0 2 5 2 7 0 2 2 0 0 0 0 5 2 7 2 2 2 2 5 0 2 0 2 2 2\n",
      " 2 0 0 2 2 0 5 2 2 2 0 2 2 0 2 2 2 2 5 2 2 5 5 2 2 5 0 0 7 2 2 2 2 0 2 2 2\n",
      " 2 2 5 5 2 0 5 2 0 2 0 2 2 2 2 0 0 0 2 2 5 2 2 2 2 2 2 2 7 0 2 2 2 7 2 2 2\n",
      " 2 0 2 2 0 5 5 5 2 5 7 0 0 2 0 5 0 2 2 2 2 2 2 2 2 2 0 5 0 2 2 2 5 2 0 2 2\n",
      " 2 0 2 2 0 5 5 0 2 0 0 2 5 2 2 0 5 0 2 5 5 2 2 2 2 2 2 0 0 2 0 5 0 0 2 0 5\n",
      " 0 2 2 0 2 2 2 0 7 2 5 2 0 2 5 5 2 2 2 0 2 2 2 2 2 2 2 2 2 2 2 5 2 0 2 2 2\n",
      " 2 2 7 2 2 0 0 2 0 2 0 5 2 2 2 2 0 2 0 2 2 5 5 2 0 2 5 0 2 0 2 2 2 0 2 5 5\n",
      " 2 2 2 5 0 2 0 2 0 2 2 5 0 0 0 5 5 5 2 2 2 0 2 0 0 2]\n"
     ]
    }
   ],
   "source": [
    "validation_generator.reset()\n",
    "pred1 = model.predict_generator(validation_generator, steps = len(validation_generator), verbose = 1)\n",
    "predicted_class_indices1 = np.argmax(pred1, axis = 1)\n",
    "#a=test_generator.class_indices.values()\n",
    "#b=list(a)\n",
    "print(predicted_class_indices1)"
   ]
  },
  {
   "cell_type": "code",
   "execution_count": 47,
   "metadata": {},
   "outputs": [
    {
     "name": "stdout",
     "output_type": "stream",
     "text": [
      "[[ 69 147  33   9]\n",
      " [141 244  69  12]\n",
      " [ 39  59  22   5]\n",
      " [  9  16   1   2]]\n",
      "             precision    recall  f1-score   support\n",
      "\n",
      "          0       0.27      0.27      0.27       258\n",
      "          2       0.52      0.52      0.52       466\n",
      "          5       0.18      0.18      0.18       125\n",
      "          7       0.07      0.07      0.07        28\n",
      "\n",
      "avg / total       0.38      0.38      0.38       877\n",
      "\n"
     ]
    }
   ],
   "source": [
    "from sklearn.metrics import confusion_matrix, classification_report\n",
    "conf_mat = confusion_matrix(predicted_class_indices1, predicted_class_indices)\n",
    "clas_rep=classification_report(predicted_class_indices1, predicted_class_indices)\n",
    "print(conf_mat)\n",
    "print(clas_rep)"
   ]
  },
  {
   "cell_type": "code",
   "execution_count": 42,
   "metadata": {},
   "outputs": [
    {
     "name": "stdout",
     "output_type": "stream",
     "text": [
      "_________________________________________________________________\n",
      "Layer (type)                 Output Shape              Param #   \n",
      "=================================================================\n",
      "model_1 (Model)              (None, 2048)              23587712  \n",
      "_________________________________________________________________\n",
      "dense_1 (Dense)              (None, 2048)              4196352   \n",
      "_________________________________________________________________\n",
      "leaky_re_lu_1 (LeakyReLU)    (None, 2048)              0         \n",
      "_________________________________________________________________\n",
      "dropout_1 (Dropout)          (None, 2048)              0         \n",
      "_________________________________________________________________\n",
      "dense_2 (Dense)              (None, 1024)              2098176   \n",
      "_________________________________________________________________\n",
      "leaky_re_lu_2 (LeakyReLU)    (None, 1024)              0         \n",
      "_________________________________________________________________\n",
      "dropout_2 (Dropout)          (None, 1024)              0         \n",
      "_________________________________________________________________\n",
      "dense_3 (Dense)              (None, 512)               524800    \n",
      "_________________________________________________________________\n",
      "leaky_re_lu_3 (LeakyReLU)    (None, 512)               0         \n",
      "_________________________________________________________________\n",
      "dropout_3 (Dropout)          (None, 512)               0         \n",
      "_________________________________________________________________\n",
      "dense_4 (Dense)              (None, 256)               131328    \n",
      "_________________________________________________________________\n",
      "leaky_re_lu_4 (LeakyReLU)    (None, 256)               0         \n",
      "_________________________________________________________________\n",
      "dropout_4 (Dropout)          (None, 256)               0         \n",
      "_________________________________________________________________\n",
      "dense_5 (Dense)              (None, 8)                 2056      \n",
      "=================================================================\n",
      "Total params: 30,540,424\n",
      "Trainable params: 30,487,304\n",
      "Non-trainable params: 53,120\n",
      "_________________________________________________________________\n"
     ]
    }
   ],
   "source": [
    "model.summary()"
   ]
  },
  {
   "cell_type": "code",
   "execution_count": 43,
   "metadata": {},
   "outputs": [
    {
     "name": "stdout",
     "output_type": "stream",
     "text": [
      "Loss = 0.27688462\n",
      "Test Accuracy = 0.42988196\n"
     ]
    }
   ],
   "source": [
    "print (\"Loss = \" + str(pred[0][5]))\n",
    "print (\"Test Accuracy = \" + str(pred[1][5]))"
   ]
  },
  {
   "cell_type": "code",
   "execution_count": 52,
   "metadata": {},
   "outputs": [],
   "source": [
    "#plotting\n",
    "def plot_confusion_matrix(cm, classes, normalize=False, title='Confusion Matrix', export_as='confusion_matrix', cmap=plt.cm.Blues):\n",
    "    \"\"\"\n",
    "    This function prints and plots the confusion matrix.\n",
    "    Normalization can be applied by setting `normalize=True`.\n",
    "    \"\"\"\n",
    "    if normalize:\n",
    "        cm = cm.astype('float') / cm.sum(axis=1)[:, np.newaxis]\n",
    "        print(\"Normalized confusion matrix\")\n",
    "    else:\n",
    "        print('Confusion matrix, without normalization')\n",
    "\n",
    "    # print(cm)\n",
    "\n",
    "    plt.imshow(cm, interpolation='nearest', cmap=cmap)\n",
    "    plt.title(title, fontsize=16)\n",
    "    plt.colorbar()\n",
    "    tick_marks = np.arange(len(classes))\n",
    "    plt.xticks(tick_marks, classes, rotation=45)\n",
    "    plt.yticks(tick_marks, classes)\n",
    "    fmt = '.2f' if normalize else 'd'\n",
    "    thresh = cm.max() / 2.\n",
    "    for i, j in itertools.product(range(cm.shape[0]), range(cm.shape[1])):\n",
    "        plt.text(j, i, format(cm[i, j], fmt), horizontalalignment=\"center\", color=\"white\" if cm[i, j] > thresh else \"black\")\n",
    "\n",
    "    plt.tight_layout()\n",
    "    plt.ylabel('True labels', fontsize=14)\n",
    "    plt.xlabel('Predicted labels', fontsize=14)\n",
    "\n",
    "    # Exporting plot image in PNG format.\n",
    "    plt.savefig(f'D:/project_age_gender/try/plotted/{export_as}.png', bbox_inches='tight');"
   ]
  },
  {
   "cell_type": "code",
   "execution_count": 53,
   "metadata": {},
   "outputs": [
    {
     "name": "stdout",
     "output_type": "stream",
     "text": [
      "Normalized confusion matrix\n"
     ]
    },
    {
     "data": {
      "image/png": "[encoded data removed]",
      "text/plain": [
       "<Figure size 1152x576 with 2 Axes>"
      ]
     },
     "metadata": {},
     "output_type": "display_data"
    }
   ],
   "source": [
    "import itertools    \n",
    "#plot_confusion_matrix()\n",
    "cm_plot_labels = ['0-2', '4-6', '8-12', '15-20', '25-32', '38-43','48-53', '60-100']\n",
    "plt.figure(figsize=(16,8))\n",
    "plot_confusion_matrix(conf_mat, cm_plot_labels, normalize=True,\n",
    "                      title=\"Confusion Matrix based on predictions from ResNet50 model\",\n",
    "                      export_as=\"final_cnn_conf_mat_norm\"\n",
    "                     )\n",
    "\n",
    "plt.show()"
   ]
  },
  {
   "cell_type": "code",
   "execution_count": null,
   "metadata": {},
   "outputs": [],
   "source": []
  }
 ],
 "metadata": {
  "kernelspec": {
   "display_name": "Python 3",
   "language": "python",
   "name": "python3"
  },
  "language_info": {
   "codemirror_mode": {
    "name": "ipython",
    "version": 3
   },
   "file_extension": ".py",
   "mimetype": "text/x-python",
   "name": "python",
   "nbconvert_exporter": "python",
   "pygments_lexer": "ipython3",
   "version": "3.6.5"
  }
 },
 "nbformat": 4,
 "nbformat_minor": 2
}
